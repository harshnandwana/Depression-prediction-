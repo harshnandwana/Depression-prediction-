{
  "metadata": {
    "kernelspec": {
      "language": "python",
      "display_name": "Python 3",
      "name": "python3"
    },
    "language_info": {
      "name": "python",
      "version": "3.7.12",
      "mimetype": "text/x-python",
      "codemirror_mode": {
        "name": "ipython",
        "version": 3
      },
      "pygments_lexer": "ipython3",
      "nbconvert_exporter": "python",
      "file_extension": ".py"
    },
    "colab": {
      "name": "heart attack prediction.ipynb",
      "provenance": []
    }
  },
  "nbformat_minor": 0,
  "nbformat": 4,
  "cells": [
    {
      "cell_type": "code",
      "source": [
        "%matplotlib inline\n",
        "import warnings\n",
        "warnings.filterwarnings(\"ignore\")\n",
        "\n",
        "import pandas as pd\n",
        "import numpy as np\n",
        "import matplotlib.pyplot as plt\n",
        "import seaborn as sns\n",
        "from sklearn.metrics import confusion_matrix\n",
        "from sklearn import metrics\n",
        "from sklearn.metrics import roc_curve, auc\n",
        "from sklearn.model_selection import GridSearchCV\n",
        "from sklearn.metrics import roc_auc_score\n",
        "import math\n",
        "\n",
        "import pickle\n",
        "from tqdm import tqdm\n",
        "import os\n",
        "\n",
        "from sklearn.model_selection import train_test_split"
      ],
      "metadata": {
        "execution": {
          "iopub.status.busy": "2022-03-27T06:35:21.261617Z",
          "iopub.execute_input": "2022-03-27T06:35:21.261917Z",
          "iopub.status.idle": "2022-03-27T06:35:22.861327Z",
          "shell.execute_reply.started": "2022-03-27T06:35:21.261875Z",
          "shell.execute_reply": "2022-03-27T06:35:22.859878Z"
        },
        "trusted": true,
        "id": "vzu_gED1hBaa"
      },
      "execution_count": null,
      "outputs": []
    },
    {
      "cell_type": "code",
      "source": [
        "data=pd.read_csv('heart.csv')\n",
        "data.head()"
      ],
      "metadata": {
        "execution": {
          "iopub.status.busy": "2022-03-27T06:36:03.484043Z",
          "iopub.execute_input": "2022-03-27T06:36:03.484309Z",
          "iopub.status.idle": "2022-03-27T06:36:03.526162Z",
          "shell.execute_reply.started": "2022-03-27T06:36:03.484282Z",
          "shell.execute_reply": "2022-03-27T06:36:03.525172Z"
        },
        "trusted": true,
        "colab": {
          "base_uri": "https://localhost:8080/",
          "height": 206
        },
        "id": "xoS0XOnohBac",
        "outputId": "a43b5ef4-b6dc-4428-de9c-7b9b3ccdbeb9"
      },
      "execution_count": null,
      "outputs": [
        {
          "output_type": "execute_result",
          "data": {
            "text/plain": [
              "   age  sex  cp  trtbps  chol  fbs  restecg  thalachh  exng  oldpeak  slp  \\\n",
              "0   63    1   3     145   233    1        0       150     0      2.3    0   \n",
              "1   37    1   2     130   250    0        1       187     0      3.5    0   \n",
              "2   41    0   1     130   204    0        0       172     0      1.4    2   \n",
              "3   56    1   1     120   236    0        1       178     0      0.8    2   \n",
              "4   57    0   0     120   354    0        1       163     1      0.6    2   \n",
              "\n",
              "   caa  thall  output  \n",
              "0    0      1       1  \n",
              "1    0      2       1  \n",
              "2    0      2       1  \n",
              "3    0      2       1  \n",
              "4    0      2       1  "
            ],
            "text/html": [
              "\n",
              "  <div id=\"df-e399986e-fec7-430d-90ac-34da2e0cba45\">\n",
              "    <div class=\"colab-df-container\">\n",
              "      <div>\n",
              "<style scoped>\n",
              "    .dataframe tbody tr th:only-of-type {\n",
              "        vertical-align: middle;\n",
              "    }\n",
              "\n",
              "    .dataframe tbody tr th {\n",
              "        vertical-align: top;\n",
              "    }\n",
              "\n",
              "    .dataframe thead th {\n",
              "        text-align: right;\n",
              "    }\n",
              "</style>\n",
              "<table border=\"1\" class=\"dataframe\">\n",
              "  <thead>\n",
              "    <tr style=\"text-align: right;\">\n",
              "      <th></th>\n",
              "      <th>age</th>\n",
              "      <th>sex</th>\n",
              "      <th>cp</th>\n",
              "      <th>trtbps</th>\n",
              "      <th>chol</th>\n",
              "      <th>fbs</th>\n",
              "      <th>restecg</th>\n",
              "      <th>thalachh</th>\n",
              "      <th>exng</th>\n",
              "      <th>oldpeak</th>\n",
              "      <th>slp</th>\n",
              "      <th>caa</th>\n",
              "      <th>thall</th>\n",
              "      <th>output</th>\n",
              "    </tr>\n",
              "  </thead>\n",
              "  <tbody>\n",
              "    <tr>\n",
              "      <th>0</th>\n",
              "      <td>63</td>\n",
              "      <td>1</td>\n",
              "      <td>3</td>\n",
              "      <td>145</td>\n",
              "      <td>233</td>\n",
              "      <td>1</td>\n",
              "      <td>0</td>\n",
              "      <td>150</td>\n",
              "      <td>0</td>\n",
              "      <td>2.3</td>\n",
              "      <td>0</td>\n",
              "      <td>0</td>\n",
              "      <td>1</td>\n",
              "      <td>1</td>\n",
              "    </tr>\n",
              "    <tr>\n",
              "      <th>1</th>\n",
              "      <td>37</td>\n",
              "      <td>1</td>\n",
              "      <td>2</td>\n",
              "      <td>130</td>\n",
              "      <td>250</td>\n",
              "      <td>0</td>\n",
              "      <td>1</td>\n",
              "      <td>187</td>\n",
              "      <td>0</td>\n",
              "      <td>3.5</td>\n",
              "      <td>0</td>\n",
              "      <td>0</td>\n",
              "      <td>2</td>\n",
              "      <td>1</td>\n",
              "    </tr>\n",
              "    <tr>\n",
              "      <th>2</th>\n",
              "      <td>41</td>\n",
              "      <td>0</td>\n",
              "      <td>1</td>\n",
              "      <td>130</td>\n",
              "      <td>204</td>\n",
              "      <td>0</td>\n",
              "      <td>0</td>\n",
              "      <td>172</td>\n",
              "      <td>0</td>\n",
              "      <td>1.4</td>\n",
              "      <td>2</td>\n",
              "      <td>0</td>\n",
              "      <td>2</td>\n",
              "      <td>1</td>\n",
              "    </tr>\n",
              "    <tr>\n",
              "      <th>3</th>\n",
              "      <td>56</td>\n",
              "      <td>1</td>\n",
              "      <td>1</td>\n",
              "      <td>120</td>\n",
              "      <td>236</td>\n",
              "      <td>0</td>\n",
              "      <td>1</td>\n",
              "      <td>178</td>\n",
              "      <td>0</td>\n",
              "      <td>0.8</td>\n",
              "      <td>2</td>\n",
              "      <td>0</td>\n",
              "      <td>2</td>\n",
              "      <td>1</td>\n",
              "    </tr>\n",
              "    <tr>\n",
              "      <th>4</th>\n",
              "      <td>57</td>\n",
              "      <td>0</td>\n",
              "      <td>0</td>\n",
              "      <td>120</td>\n",
              "      <td>354</td>\n",
              "      <td>0</td>\n",
              "      <td>1</td>\n",
              "      <td>163</td>\n",
              "      <td>1</td>\n",
              "      <td>0.6</td>\n",
              "      <td>2</td>\n",
              "      <td>0</td>\n",
              "      <td>2</td>\n",
              "      <td>1</td>\n",
              "    </tr>\n",
              "  </tbody>\n",
              "</table>\n",
              "</div>\n",
              "      <button class=\"colab-df-convert\" onclick=\"convertToInteractive('df-e399986e-fec7-430d-90ac-34da2e0cba45')\"\n",
              "              title=\"Convert this dataframe to an interactive table.\"\n",
              "              style=\"display:none;\">\n",
              "        \n",
              "  <svg xmlns=\"http://www.w3.org/2000/svg\" height=\"24px\"viewBox=\"0 0 24 24\"\n",
              "       width=\"24px\">\n",
              "    <path d=\"M0 0h24v24H0V0z\" fill=\"none\"/>\n",
              "    <path d=\"M18.56 5.44l.94 2.06.94-2.06 2.06-.94-2.06-.94-.94-2.06-.94 2.06-2.06.94zm-11 1L8.5 8.5l.94-2.06 2.06-.94-2.06-.94L8.5 2.5l-.94 2.06-2.06.94zm10 10l.94 2.06.94-2.06 2.06-.94-2.06-.94-.94-2.06-.94 2.06-2.06.94z\"/><path d=\"M17.41 7.96l-1.37-1.37c-.4-.4-.92-.59-1.43-.59-.52 0-1.04.2-1.43.59L10.3 9.45l-7.72 7.72c-.78.78-.78 2.05 0 2.83L4 21.41c.39.39.9.59 1.41.59.51 0 1.02-.2 1.41-.59l7.78-7.78 2.81-2.81c.8-.78.8-2.07 0-2.86zM5.41 20L4 18.59l7.72-7.72 1.47 1.35L5.41 20z\"/>\n",
              "  </svg>\n",
              "      </button>\n",
              "      \n",
              "  <style>\n",
              "    .colab-df-container {\n",
              "      display:flex;\n",
              "      flex-wrap:wrap;\n",
              "      gap: 12px;\n",
              "    }\n",
              "\n",
              "    .colab-df-convert {\n",
              "      background-color: #E8F0FE;\n",
              "      border: none;\n",
              "      border-radius: 50%;\n",
              "      cursor: pointer;\n",
              "      display: none;\n",
              "      fill: #1967D2;\n",
              "      height: 32px;\n",
              "      padding: 0 0 0 0;\n",
              "      width: 32px;\n",
              "    }\n",
              "\n",
              "    .colab-df-convert:hover {\n",
              "      background-color: #E2EBFA;\n",
              "      box-shadow: 0px 1px 2px rgba(60, 64, 67, 0.3), 0px 1px 3px 1px rgba(60, 64, 67, 0.15);\n",
              "      fill: #174EA6;\n",
              "    }\n",
              "\n",
              "    [theme=dark] .colab-df-convert {\n",
              "      background-color: #3B4455;\n",
              "      fill: #D2E3FC;\n",
              "    }\n",
              "\n",
              "    [theme=dark] .colab-df-convert:hover {\n",
              "      background-color: #434B5C;\n",
              "      box-shadow: 0px 1px 3px 1px rgba(0, 0, 0, 0.15);\n",
              "      filter: drop-shadow(0px 1px 2px rgba(0, 0, 0, 0.3));\n",
              "      fill: #FFFFFF;\n",
              "    }\n",
              "  </style>\n",
              "\n",
              "      <script>\n",
              "        const buttonEl =\n",
              "          document.querySelector('#df-e399986e-fec7-430d-90ac-34da2e0cba45 button.colab-df-convert');\n",
              "        buttonEl.style.display =\n",
              "          google.colab.kernel.accessAllowed ? 'block' : 'none';\n",
              "\n",
              "        async function convertToInteractive(key) {\n",
              "          const element = document.querySelector('#df-e399986e-fec7-430d-90ac-34da2e0cba45');\n",
              "          const dataTable =\n",
              "            await google.colab.kernel.invokeFunction('convertToInteractive',\n",
              "                                                     [key], {});\n",
              "          if (!dataTable) return;\n",
              "\n",
              "          const docLinkHtml = 'Like what you see? Visit the ' +\n",
              "            '<a target=\"_blank\" href=https://colab.research.google.com/notebooks/data_table.ipynb>data table notebook</a>'\n",
              "            + ' to learn more about interactive tables.';\n",
              "          element.innerHTML = '';\n",
              "          dataTable['output_type'] = 'display_data';\n",
              "          await google.colab.output.renderOutput(dataTable, element);\n",
              "          const docLink = document.createElement('div');\n",
              "          docLink.innerHTML = docLinkHtml;\n",
              "          element.appendChild(docLink);\n",
              "        }\n",
              "      </script>\n",
              "    </div>\n",
              "  </div>\n",
              "  "
            ]
          },
          "metadata": {},
          "execution_count": 4
        }
      ]
    },
    {
      "cell_type": "code",
      "source": [
        "data.describe()"
      ],
      "metadata": {
        "execution": {
          "iopub.status.busy": "2022-03-27T06:36:27.143872Z",
          "iopub.execute_input": "2022-03-27T06:36:27.144146Z",
          "iopub.status.idle": "2022-03-27T06:36:27.206732Z",
          "shell.execute_reply.started": "2022-03-27T06:36:27.144118Z",
          "shell.execute_reply": "2022-03-27T06:36:27.206038Z"
        },
        "trusted": true,
        "colab": {
          "base_uri": "https://localhost:8080/",
          "height": 364
        },
        "id": "pdZ0g4SThBae",
        "outputId": "0d429783-5048-4a0a-bd9d-5a37554c6ed7"
      },
      "execution_count": null,
      "outputs": [
        {
          "output_type": "execute_result",
          "data": {
            "text/plain": [
              "              age         sex          cp      trtbps        chol         fbs  \\\n",
              "count  303.000000  303.000000  303.000000  303.000000  303.000000  303.000000   \n",
              "mean    54.366337    0.683168    0.966997  131.623762  246.264026    0.148515   \n",
              "std      9.082101    0.466011    1.032052   17.538143   51.830751    0.356198   \n",
              "min     29.000000    0.000000    0.000000   94.000000  126.000000    0.000000   \n",
              "25%     47.500000    0.000000    0.000000  120.000000  211.000000    0.000000   \n",
              "50%     55.000000    1.000000    1.000000  130.000000  240.000000    0.000000   \n",
              "75%     61.000000    1.000000    2.000000  140.000000  274.500000    0.000000   \n",
              "max     77.000000    1.000000    3.000000  200.000000  564.000000    1.000000   \n",
              "\n",
              "          restecg    thalachh        exng     oldpeak         slp         caa  \\\n",
              "count  303.000000  303.000000  303.000000  303.000000  303.000000  303.000000   \n",
              "mean     0.528053  149.646865    0.326733    1.039604    1.399340    0.729373   \n",
              "std      0.525860   22.905161    0.469794    1.161075    0.616226    1.022606   \n",
              "min      0.000000   71.000000    0.000000    0.000000    0.000000    0.000000   \n",
              "25%      0.000000  133.500000    0.000000    0.000000    1.000000    0.000000   \n",
              "50%      1.000000  153.000000    0.000000    0.800000    1.000000    0.000000   \n",
              "75%      1.000000  166.000000    1.000000    1.600000    2.000000    1.000000   \n",
              "max      2.000000  202.000000    1.000000    6.200000    2.000000    4.000000   \n",
              "\n",
              "            thall      output  \n",
              "count  303.000000  303.000000  \n",
              "mean     2.313531    0.544554  \n",
              "std      0.612277    0.498835  \n",
              "min      0.000000    0.000000  \n",
              "25%      2.000000    0.000000  \n",
              "50%      2.000000    1.000000  \n",
              "75%      3.000000    1.000000  \n",
              "max      3.000000    1.000000  "
            ],
            "text/html": [
              "\n",
              "  <div id=\"df-5e7259a1-8432-4a0c-a891-423ec4d9ea8e\">\n",
              "    <div class=\"colab-df-container\">\n",
              "      <div>\n",
              "<style scoped>\n",
              "    .dataframe tbody tr th:only-of-type {\n",
              "        vertical-align: middle;\n",
              "    }\n",
              "\n",
              "    .dataframe tbody tr th {\n",
              "        vertical-align: top;\n",
              "    }\n",
              "\n",
              "    .dataframe thead th {\n",
              "        text-align: right;\n",
              "    }\n",
              "</style>\n",
              "<table border=\"1\" class=\"dataframe\">\n",
              "  <thead>\n",
              "    <tr style=\"text-align: right;\">\n",
              "      <th></th>\n",
              "      <th>age</th>\n",
              "      <th>sex</th>\n",
              "      <th>cp</th>\n",
              "      <th>trtbps</th>\n",
              "      <th>chol</th>\n",
              "      <th>fbs</th>\n",
              "      <th>restecg</th>\n",
              "      <th>thalachh</th>\n",
              "      <th>exng</th>\n",
              "      <th>oldpeak</th>\n",
              "      <th>slp</th>\n",
              "      <th>caa</th>\n",
              "      <th>thall</th>\n",
              "      <th>output</th>\n",
              "    </tr>\n",
              "  </thead>\n",
              "  <tbody>\n",
              "    <tr>\n",
              "      <th>count</th>\n",
              "      <td>303.000000</td>\n",
              "      <td>303.000000</td>\n",
              "      <td>303.000000</td>\n",
              "      <td>303.000000</td>\n",
              "      <td>303.000000</td>\n",
              "      <td>303.000000</td>\n",
              "      <td>303.000000</td>\n",
              "      <td>303.000000</td>\n",
              "      <td>303.000000</td>\n",
              "      <td>303.000000</td>\n",
              "      <td>303.000000</td>\n",
              "      <td>303.000000</td>\n",
              "      <td>303.000000</td>\n",
              "      <td>303.000000</td>\n",
              "    </tr>\n",
              "    <tr>\n",
              "      <th>mean</th>\n",
              "      <td>54.366337</td>\n",
              "      <td>0.683168</td>\n",
              "      <td>0.966997</td>\n",
              "      <td>131.623762</td>\n",
              "      <td>246.264026</td>\n",
              "      <td>0.148515</td>\n",
              "      <td>0.528053</td>\n",
              "      <td>149.646865</td>\n",
              "      <td>0.326733</td>\n",
              "      <td>1.039604</td>\n",
              "      <td>1.399340</td>\n",
              "      <td>0.729373</td>\n",
              "      <td>2.313531</td>\n",
              "      <td>0.544554</td>\n",
              "    </tr>\n",
              "    <tr>\n",
              "      <th>std</th>\n",
              "      <td>9.082101</td>\n",
              "      <td>0.466011</td>\n",
              "      <td>1.032052</td>\n",
              "      <td>17.538143</td>\n",
              "      <td>51.830751</td>\n",
              "      <td>0.356198</td>\n",
              "      <td>0.525860</td>\n",
              "      <td>22.905161</td>\n",
              "      <td>0.469794</td>\n",
              "      <td>1.161075</td>\n",
              "      <td>0.616226</td>\n",
              "      <td>1.022606</td>\n",
              "      <td>0.612277</td>\n",
              "      <td>0.498835</td>\n",
              "    </tr>\n",
              "    <tr>\n",
              "      <th>min</th>\n",
              "      <td>29.000000</td>\n",
              "      <td>0.000000</td>\n",
              "      <td>0.000000</td>\n",
              "      <td>94.000000</td>\n",
              "      <td>126.000000</td>\n",
              "      <td>0.000000</td>\n",
              "      <td>0.000000</td>\n",
              "      <td>71.000000</td>\n",
              "      <td>0.000000</td>\n",
              "      <td>0.000000</td>\n",
              "      <td>0.000000</td>\n",
              "      <td>0.000000</td>\n",
              "      <td>0.000000</td>\n",
              "      <td>0.000000</td>\n",
              "    </tr>\n",
              "    <tr>\n",
              "      <th>25%</th>\n",
              "      <td>47.500000</td>\n",
              "      <td>0.000000</td>\n",
              "      <td>0.000000</td>\n",
              "      <td>120.000000</td>\n",
              "      <td>211.000000</td>\n",
              "      <td>0.000000</td>\n",
              "      <td>0.000000</td>\n",
              "      <td>133.500000</td>\n",
              "      <td>0.000000</td>\n",
              "      <td>0.000000</td>\n",
              "      <td>1.000000</td>\n",
              "      <td>0.000000</td>\n",
              "      <td>2.000000</td>\n",
              "      <td>0.000000</td>\n",
              "    </tr>\n",
              "    <tr>\n",
              "      <th>50%</th>\n",
              "      <td>55.000000</td>\n",
              "      <td>1.000000</td>\n",
              "      <td>1.000000</td>\n",
              "      <td>130.000000</td>\n",
              "      <td>240.000000</td>\n",
              "      <td>0.000000</td>\n",
              "      <td>1.000000</td>\n",
              "      <td>153.000000</td>\n",
              "      <td>0.000000</td>\n",
              "      <td>0.800000</td>\n",
              "      <td>1.000000</td>\n",
              "      <td>0.000000</td>\n",
              "      <td>2.000000</td>\n",
              "      <td>1.000000</td>\n",
              "    </tr>\n",
              "    <tr>\n",
              "      <th>75%</th>\n",
              "      <td>61.000000</td>\n",
              "      <td>1.000000</td>\n",
              "      <td>2.000000</td>\n",
              "      <td>140.000000</td>\n",
              "      <td>274.500000</td>\n",
              "      <td>0.000000</td>\n",
              "      <td>1.000000</td>\n",
              "      <td>166.000000</td>\n",
              "      <td>1.000000</td>\n",
              "      <td>1.600000</td>\n",
              "      <td>2.000000</td>\n",
              "      <td>1.000000</td>\n",
              "      <td>3.000000</td>\n",
              "      <td>1.000000</td>\n",
              "    </tr>\n",
              "    <tr>\n",
              "      <th>max</th>\n",
              "      <td>77.000000</td>\n",
              "      <td>1.000000</td>\n",
              "      <td>3.000000</td>\n",
              "      <td>200.000000</td>\n",
              "      <td>564.000000</td>\n",
              "      <td>1.000000</td>\n",
              "      <td>2.000000</td>\n",
              "      <td>202.000000</td>\n",
              "      <td>1.000000</td>\n",
              "      <td>6.200000</td>\n",
              "      <td>2.000000</td>\n",
              "      <td>4.000000</td>\n",
              "      <td>3.000000</td>\n",
              "      <td>1.000000</td>\n",
              "    </tr>\n",
              "  </tbody>\n",
              "</table>\n",
              "</div>\n",
              "      <button class=\"colab-df-convert\" onclick=\"convertToInteractive('df-5e7259a1-8432-4a0c-a891-423ec4d9ea8e')\"\n",
              "              title=\"Convert this dataframe to an interactive table.\"\n",
              "              style=\"display:none;\">\n",
              "        \n",
              "  <svg xmlns=\"http://www.w3.org/2000/svg\" height=\"24px\"viewBox=\"0 0 24 24\"\n",
              "       width=\"24px\">\n",
              "    <path d=\"M0 0h24v24H0V0z\" fill=\"none\"/>\n",
              "    <path d=\"M18.56 5.44l.94 2.06.94-2.06 2.06-.94-2.06-.94-.94-2.06-.94 2.06-2.06.94zm-11 1L8.5 8.5l.94-2.06 2.06-.94-2.06-.94L8.5 2.5l-.94 2.06-2.06.94zm10 10l.94 2.06.94-2.06 2.06-.94-2.06-.94-.94-2.06-.94 2.06-2.06.94z\"/><path d=\"M17.41 7.96l-1.37-1.37c-.4-.4-.92-.59-1.43-.59-.52 0-1.04.2-1.43.59L10.3 9.45l-7.72 7.72c-.78.78-.78 2.05 0 2.83L4 21.41c.39.39.9.59 1.41.59.51 0 1.02-.2 1.41-.59l7.78-7.78 2.81-2.81c.8-.78.8-2.07 0-2.86zM5.41 20L4 18.59l7.72-7.72 1.47 1.35L5.41 20z\"/>\n",
              "  </svg>\n",
              "      </button>\n",
              "      \n",
              "  <style>\n",
              "    .colab-df-container {\n",
              "      display:flex;\n",
              "      flex-wrap:wrap;\n",
              "      gap: 12px;\n",
              "    }\n",
              "\n",
              "    .colab-df-convert {\n",
              "      background-color: #E8F0FE;\n",
              "      border: none;\n",
              "      border-radius: 50%;\n",
              "      cursor: pointer;\n",
              "      display: none;\n",
              "      fill: #1967D2;\n",
              "      height: 32px;\n",
              "      padding: 0 0 0 0;\n",
              "      width: 32px;\n",
              "    }\n",
              "\n",
              "    .colab-df-convert:hover {\n",
              "      background-color: #E2EBFA;\n",
              "      box-shadow: 0px 1px 2px rgba(60, 64, 67, 0.3), 0px 1px 3px 1px rgba(60, 64, 67, 0.15);\n",
              "      fill: #174EA6;\n",
              "    }\n",
              "\n",
              "    [theme=dark] .colab-df-convert {\n",
              "      background-color: #3B4455;\n",
              "      fill: #D2E3FC;\n",
              "    }\n",
              "\n",
              "    [theme=dark] .colab-df-convert:hover {\n",
              "      background-color: #434B5C;\n",
              "      box-shadow: 0px 1px 3px 1px rgba(0, 0, 0, 0.15);\n",
              "      filter: drop-shadow(0px 1px 2px rgba(0, 0, 0, 0.3));\n",
              "      fill: #FFFFFF;\n",
              "    }\n",
              "  </style>\n",
              "\n",
              "      <script>\n",
              "        const buttonEl =\n",
              "          document.querySelector('#df-5e7259a1-8432-4a0c-a891-423ec4d9ea8e button.colab-df-convert');\n",
              "        buttonEl.style.display =\n",
              "          google.colab.kernel.accessAllowed ? 'block' : 'none';\n",
              "\n",
              "        async function convertToInteractive(key) {\n",
              "          const element = document.querySelector('#df-5e7259a1-8432-4a0c-a891-423ec4d9ea8e');\n",
              "          const dataTable =\n",
              "            await google.colab.kernel.invokeFunction('convertToInteractive',\n",
              "                                                     [key], {});\n",
              "          if (!dataTable) return;\n",
              "\n",
              "          const docLinkHtml = 'Like what you see? Visit the ' +\n",
              "            '<a target=\"_blank\" href=https://colab.research.google.com/notebooks/data_table.ipynb>data table notebook</a>'\n",
              "            + ' to learn more about interactive tables.';\n",
              "          element.innerHTML = '';\n",
              "          dataTable['output_type'] = 'display_data';\n",
              "          await google.colab.output.renderOutput(dataTable, element);\n",
              "          const docLink = document.createElement('div');\n",
              "          docLink.innerHTML = docLinkHtml;\n",
              "          element.appendChild(docLink);\n",
              "        }\n",
              "      </script>\n",
              "    </div>\n",
              "  </div>\n",
              "  "
            ]
          },
          "metadata": {},
          "execution_count": 5
        }
      ]
    },
    {
      "cell_type": "code",
      "source": [
        "data.drop_duplicates(keep='first',inplace=True)"
      ],
      "metadata": {
        "execution": {
          "iopub.status.busy": "2022-03-27T06:36:43.322100Z",
          "iopub.execute_input": "2022-03-27T06:36:43.323243Z",
          "iopub.status.idle": "2022-03-27T06:36:43.336562Z",
          "shell.execute_reply.started": "2022-03-27T06:36:43.323209Z",
          "shell.execute_reply": "2022-03-27T06:36:43.335404Z"
        },
        "trusted": true,
        "id": "FlZ96HLahBaf"
      },
      "execution_count": null,
      "outputs": []
    },
    {
      "cell_type": "code",
      "source": [
        "y=data.output.values\n",
        "x=data.drop([\"output\"],axis=1)\n",
        "X_train, X_test, y_train, y_test = train_test_split(x, y, test_size=0.20)\n",
        "x.shape,X_train.shape,X_test.shape"
      ],
      "metadata": {
        "execution": {
          "iopub.status.busy": "2022-03-27T06:36:57.060452Z",
          "iopub.execute_input": "2022-03-27T06:36:57.061430Z",
          "iopub.status.idle": "2022-03-27T06:36:57.071980Z",
          "shell.execute_reply.started": "2022-03-27T06:36:57.061368Z",
          "shell.execute_reply": "2022-03-27T06:36:57.071401Z"
        },
        "trusted": true,
        "colab": {
          "base_uri": "https://localhost:8080/"
        },
        "id": "wEw_I3nIhBai",
        "outputId": "4079002c-4afe-45de-e7f9-8c19a67393cc"
      },
      "execution_count": null,
      "outputs": [
        {
          "output_type": "execute_result",
          "data": {
            "text/plain": [
              "((302, 13), (241, 13), (61, 13))"
            ]
          },
          "metadata": {},
          "execution_count": 7
        }
      ]
    },
    {
      "cell_type": "code",
      "source": [
        "from sklearn.linear_model import SGDClassifier\n",
        "from sklearn.linear_model import LogisticRegression\n",
        "from sklearn.tree import DecisionTreeClassifier\n",
        "import xgboost as xgb\n",
        "from sklearn.neighbors import KNeighborsClassifier\n",
        "from sklearn.svm import LinearSVC\n",
        "model1=SGDClassifier()\n",
        "model2=LogisticRegression()\n",
        "model3=DecisionTreeClassifier()\n",
        "model4=KNeighborsClassifier()\n",
        "model5 = xgb.XGBClassifier()\n",
        "model6=LinearSVC()\n",
        "meta=LogisticRegression()"
      ],
      "metadata": {
        "execution": {
          "iopub.status.busy": "2022-03-27T06:38:38.791399Z",
          "iopub.execute_input": "2022-03-27T06:38:38.791680Z",
          "iopub.status.idle": "2022-03-27T06:38:38.919145Z",
          "shell.execute_reply.started": "2022-03-27T06:38:38.791650Z",
          "shell.execute_reply": "2022-03-27T06:38:38.917868Z"
        },
        "trusted": true,
        "id": "6Jb9jq5RhBai"
      },
      "execution_count": null,
      "outputs": []
    },
    {
      "cell_type": "code",
      "source": [
        "grid_values = {'loss':['log','hinge'],'penalty':['l1','l2'],'alpha':np.logspace(-50,50,101)}\n",
        "clf = GridSearchCV(model1, grid_values, cv=2, scoring='roc_auc', return_train_score=True)\n",
        "clf.fit(X_train, y_train)\n",
        "clf.best_estimator_,clf.best_score_"
      ],
      "metadata": {
        "execution": {
          "iopub.status.busy": "2022-03-27T06:38:42.335490Z",
          "iopub.execute_input": "2022-03-27T06:38:42.336638Z",
          "iopub.status.idle": "2022-03-27T06:38:48.044294Z",
          "shell.execute_reply.started": "2022-03-27T06:38:42.336558Z",
          "shell.execute_reply": "2022-03-27T06:38:48.043715Z"
        },
        "trusted": true,
        "colab": {
          "base_uri": "https://localhost:8080/"
        },
        "id": "9SsW3fNdhBak",
        "outputId": "3ff6a16e-f680-408f-9a39-db3b99d7dc8a"
      },
      "execution_count": null,
      "outputs": [
        {
          "output_type": "execute_result",
          "data": {
            "text/plain": [
              "(SGDClassifier(alpha=0.1, penalty='l1'), 0.7700680101177613)"
            ]
          },
          "metadata": {},
          "execution_count": 9
        }
      ]
    },
    {
      "cell_type": "code",
      "source": [
        "grid_values = {'penalty':['l1','l2'],'C':np.logspace(-50,50,101)}\n",
        "clf = GridSearchCV(model2, grid_values, cv=2, scoring='roc_auc', return_train_score=True)\n",
        "clf.fit(X_train, y_train)\n",
        "clf.best_estimator_,clf.best_score_"
      ],
      "metadata": {
        "execution": {
          "iopub.status.busy": "2022-03-27T06:39:53.970994Z",
          "iopub.execute_input": "2022-03-27T06:39:53.971259Z",
          "iopub.status.idle": "2022-03-27T06:39:58.694232Z",
          "shell.execute_reply.started": "2022-03-27T06:39:53.971232Z",
          "shell.execute_reply": "2022-03-27T06:39:58.693510Z"
        },
        "trusted": true,
        "colab": {
          "base_uri": "https://localhost:8080/"
        },
        "id": "CTW17aC7hBam",
        "outputId": "0da5dd01-8b6c-4940-a33d-f41025835c04"
      },
      "execution_count": null,
      "outputs": [
        {
          "output_type": "execute_result",
          "data": {
            "text/plain": [
              "(LogisticRegression(C=100000.0), 0.8773640216426286)"
            ]
          },
          "metadata": {},
          "execution_count": 10
        }
      ]
    },
    {
      "cell_type": "code",
      "source": [
        "grid_values = {'min_samples_split':np.arange(1,1000,50),'max_depth':np.arange(2,10)}\n",
        "clf = GridSearchCV(model3, grid_values, cv=2, scoring='roc_auc', return_train_score=True)\n",
        "clf.fit(X_train, y_train)\n",
        "clf.best_estimator_,clf.best_score_\n"
      ],
      "metadata": {
        "execution": {
          "iopub.status.busy": "2022-03-27T06:39:58.695968Z",
          "iopub.execute_input": "2022-03-27T06:39:58.696248Z",
          "iopub.status.idle": "2022-03-27T06:40:01.160032Z",
          "shell.execute_reply.started": "2022-03-27T06:39:58.696214Z",
          "shell.execute_reply": "2022-03-27T06:40:01.159138Z"
        },
        "trusted": true,
        "colab": {
          "base_uri": "https://localhost:8080/"
        },
        "id": "0LFmJCeihBap",
        "outputId": "a870fc6e-66c7-4739-f251-4234e242f369"
      },
      "execution_count": null,
      "outputs": [
        {
          "output_type": "execute_result",
          "data": {
            "text/plain": [
              "(DecisionTreeClassifier(max_depth=8, min_samples_split=51), 0.7617572909861468)"
            ]
          },
          "metadata": {},
          "execution_count": 11
        }
      ]
    },
    {
      "cell_type": "code",
      "source": [
        "grid_values = {'n_neighbors':np.arange(2,20)}\n",
        "clf = GridSearchCV(model4, grid_values, cv=2, scoring='roc_auc', return_train_score=True)\n",
        "clf.fit(X_train, y_train)\n",
        "clf.best_estimator_,clf.best_score_"
      ],
      "metadata": {
        "execution": {
          "iopub.status.busy": "2022-03-27T06:40:01.161492Z",
          "iopub.execute_input": "2022-03-27T06:40:01.161701Z",
          "iopub.status.idle": "2022-03-27T06:40:01.563256Z",
          "shell.execute_reply.started": "2022-03-27T06:40:01.161676Z",
          "shell.execute_reply": "2022-03-27T06:40:01.562290Z"
        },
        "trusted": true,
        "colab": {
          "base_uri": "https://localhost:8080/"
        },
        "id": "mIp_SYjzhBaq",
        "outputId": "6d0b98ac-b964-405d-cfd8-a04d78ad5c88"
      },
      "execution_count": null,
      "outputs": [
        {
          "output_type": "execute_result",
          "data": {
            "text/plain": [
              "(KNeighborsClassifier(n_neighbors=18), 0.7052647117945625)"
            ]
          },
          "metadata": {},
          "execution_count": 12
        }
      ]
    },
    {
      "cell_type": "code",
      "source": [
        "import warnings\n",
        "warnings.filterwarnings(\"ignore\")\n",
        "grid_values = {'learning_rate': np.logspace(-5,5,11) ,'n_estimators' : np.arange(10,1000,50)}\n",
        "clf = GridSearchCV(model5, grid_values, cv=2, scoring='roc_auc', return_train_score=True)\n",
        "clf.fit(X_train, y_train)\n",
        "clf.best_estimator_,clf.best_score_"
      ],
      "metadata": {
        "execution": {
          "iopub.status.busy": "2022-03-27T06:42:09.858152Z",
          "iopub.execute_input": "2022-03-27T06:42:09.858579Z",
          "iopub.status.idle": "2022-03-27T06:44:32.974758Z",
          "shell.execute_reply.started": "2022-03-27T06:42:09.858530Z",
          "shell.execute_reply": "2022-03-27T06:44:32.971052Z"
        },
        "trusted": true,
        "colab": {
          "base_uri": "https://localhost:8080/"
        },
        "id": "NSs9W671hBar",
        "outputId": "e31a56ae-fbfa-44f6-aee6-2ef4309bc88b"
      },
      "execution_count": null,
      "outputs": [
        {
          "output_type": "execute_result",
          "data": {
            "text/plain": [
              "(XGBClassifier(n_estimators=310), 0.8804881317319129)"
            ]
          },
          "metadata": {},
          "execution_count": 13
        }
      ]
    },
    {
      "cell_type": "code",
      "source": [
        "grid_values = {'penalty':['l1','l2'],'C':np.logspace(-50,50,101)}\n",
        "clf = GridSearchCV(model6, grid_values, cv=2, scoring='roc_auc', return_train_score=True)\n",
        "clf.fit(X_train, y_train)\n",
        "clf.best_estimator_,clf.best_score_"
      ],
      "metadata": {
        "execution": {
          "iopub.status.busy": "2022-03-27T06:44:41.982177Z",
          "iopub.execute_input": "2022-03-27T06:44:41.982601Z",
          "iopub.status.idle": "2022-03-27T06:44:44.989823Z",
          "shell.execute_reply.started": "2022-03-27T06:44:41.982568Z",
          "shell.execute_reply": "2022-03-27T06:44:44.988419Z"
        },
        "trusted": true,
        "colab": {
          "base_uri": "https://localhost:8080/"
        },
        "id": "D_FFfVePhBas",
        "outputId": "2b2c6668-463e-468e-cd87-6bbfb88654fe"
      },
      "execution_count": null,
      "outputs": [
        {
          "output_type": "execute_result",
          "data": {
            "text/plain": [
              "(LinearSVC(C=1e+50), 0.8912047506574869)"
            ]
          },
          "metadata": {},
          "execution_count": 14
        }
      ]
    },
    {
      "cell_type": "code",
      "source": [
        "model1=SGDClassifier(alpha=0.1, loss='log', penalty='l1')\n",
        "model1.fit(X_train,y_train)\n",
        "model2=LogisticRegression(C=100000.0)\n",
        "model2.fit(X_train,y_train)\n",
        "model3=DecisionTreeClassifier(max_depth=8, min_samples_split=51)\n",
        "model3.fit(X_train,y_train)\n",
        "model4=KNeighborsClassifier(n_neighbors=18)\n",
        "model4.fit(X_train,y_train)\n",
        "model5 = xgb.XGBClassifier(learning_rate=0.01, max_depth=2, n_estimators=310)\n",
        "model5.fit(X_train,y_train)\n",
        "model6=LinearSVC(C=100.0)\n",
        "model6.fit(X_train,y_train)\n",
        "meta=LogisticRegression()"
      ],
      "metadata": {
        "execution": {
          "iopub.status.busy": "2022-03-27T06:48:53.160380Z",
          "iopub.execute_input": "2022-03-27T06:48:53.160645Z",
          "iopub.status.idle": "2022-03-27T06:48:53.767184Z",
          "shell.execute_reply.started": "2022-03-27T06:48:53.160617Z",
          "shell.execute_reply": "2022-03-27T06:48:53.766042Z"
        },
        "trusted": true,
        "id": "i0X_63IrhBat"
      },
      "execution_count": null,
      "outputs": []
    },
    {
      "cell_type": "code",
      "source": [
        "import six\n",
        "import sys\n",
        "sys.modules['sklearn.externals.six'] = six\n",
        "from mlxtend.classifier import StackingClassifier\n",
        "\n",
        "sclf = StackingClassifier(classifiers=[model1, model2, model3, model4, model5, model6], meta_classifier=meta)"
      ],
      "metadata": {
        "execution": {
          "iopub.status.busy": "2022-03-27T06:49:00.011451Z",
          "iopub.execute_input": "2022-03-27T06:49:00.011752Z",
          "iopub.status.idle": "2022-03-27T06:49:00.017511Z",
          "shell.execute_reply.started": "2022-03-27T06:49:00.011720Z",
          "shell.execute_reply": "2022-03-27T06:49:00.016617Z"
        },
        "trusted": true,
        "id": "Yc1CIA59hBau"
      },
      "execution_count": null,
      "outputs": []
    },
    {
      "cell_type": "code",
      "source": [
        "from sklearn import model_selection\n",
        "for clf, label in zip([model1, model2, model3, model4, model5, model6,sclf], \n",
        "                      ['SGD', \n",
        "                       'Logistic Regression', \n",
        "                       'DecisionTreeClassifier',\n",
        "                       'KNeighborsClassifier', \n",
        "                       'XGBClassifier', \n",
        "                       'DecisionTreeClassifier',\n",
        "                       'LinearSVC']):\n",
        "\n",
        "    scores = model_selection.cross_val_score(clf, X_train, y_train, \n",
        "                                              cv=3, scoring='accuracy')\n",
        "    print(\"Accuracy: %0.2f (+/- %0.2f) [%s]\" \n",
        "          % (scores.mean(), scores.std(), label))"
      ],
      "metadata": {
        "execution": {
          "iopub.status.busy": "2022-03-27T06:49:03.714788Z",
          "iopub.execute_input": "2022-03-27T06:49:03.715084Z",
          "iopub.status.idle": "2022-03-27T06:49:07.498567Z",
          "shell.execute_reply.started": "2022-03-27T06:49:03.715051Z",
          "shell.execute_reply": "2022-03-27T06:49:07.497898Z"
        },
        "trusted": true,
        "colab": {
          "base_uri": "https://localhost:8080/"
        },
        "id": "6-DOKyXghBav",
        "outputId": "1923c142-2063-4863-b1ec-bb4141533f49"
      },
      "execution_count": null,
      "outputs": [
        {
          "output_type": "stream",
          "name": "stdout",
          "text": [
            "Accuracy: 0.62 (+/- 0.05) [SGD]\n",
            "Accuracy: 0.81 (+/- 0.04) [Logistic Regression]\n",
            "Accuracy: 0.72 (+/- 0.03) [DecisionTreeClassifier]\n",
            "Accuracy: 0.66 (+/- 0.04) [KNeighborsClassifier]\n",
            "Accuracy: 0.82 (+/- 0.03) [XGBClassifier]\n",
            "Accuracy: 0.73 (+/- 0.05) [DecisionTreeClassifier]\n",
            "Accuracy: 0.81 (+/- 0.03) [LinearSVC]\n"
          ]
        }
      ]
    },
    {
      "cell_type": "code",
      "source": [
        "sclf.fit(X_train,y_train)"
      ],
      "metadata": {
        "execution": {
          "iopub.status.busy": "2022-03-27T06:49:36.773202Z",
          "iopub.execute_input": "2022-03-27T06:49:36.773749Z",
          "iopub.status.idle": "2022-03-27T06:49:37.434900Z",
          "shell.execute_reply.started": "2022-03-27T06:49:36.773706Z",
          "shell.execute_reply": "2022-03-27T06:49:37.434221Z"
        },
        "trusted": true,
        "colab": {
          "base_uri": "https://localhost:8080/"
        },
        "id": "KZQwRKeZhBaw",
        "outputId": "3b054c8a-544e-4796-cf9b-23121fb558a9"
      },
      "execution_count": null,
      "outputs": [
        {
          "output_type": "execute_result",
          "data": {
            "text/plain": [
              "StackingClassifier(classifiers=[SGDClassifier(alpha=0.01, loss='log',\n",
              "                                              penalty='l1'),\n",
              "                                LogisticRegression(C=100000000000000.0),\n",
              "                                DecisionTreeClassifier(max_depth=2,\n",
              "                                                       min_samples_split=51),\n",
              "                                KNeighborsClassifier(n_neighbors=19),\n",
              "                                XGBClassifier(learning_rate=0.01, max_depth=2,\n",
              "                                              n_estimators=260),\n",
              "                                LinearSVC(C=100.0)],\n",
              "                   meta_classifier=LogisticRegression())"
            ]
          },
          "metadata": {},
          "execution_count": 24
        }
      ]
    },
    {
      "cell_type": "code",
      "source": [
        "from sklearn.metrics import accuracy_score\n",
        "print (\"accuracy with model 1 is :\"+str(accuracy_score(y_test,model1.predict(X_test))))\n",
        "print (\"accuracy with model 2 is :\"+str(accuracy_score(y_test,model2.predict(X_test))))\n",
        "print (\"accuracy with model 3 is :\"+str(accuracy_score(y_test,model3.predict(X_test))))\n",
        "print (\"accuracy with model 4 is :\"+str(accuracy_score(y_test,model4.predict(X_test))))\n",
        "print (\"accuracy with model 5 is :\"+str(accuracy_score(y_test,model5.predict(X_test))))\n",
        "print (\"accuracy with model 6 is :\"+str(accuracy_score(y_test,model6.predict(X_test))))\n",
        "print (\"accuracy with ensemble is :\"+str(accuracy_score(y_test,sclf.predict(X_test))))"
      ],
      "metadata": {
        "execution": {
          "iopub.status.busy": "2022-03-27T06:59:38.676698Z",
          "iopub.execute_input": "2022-03-27T06:59:38.677885Z",
          "iopub.status.idle": "2022-03-27T06:59:38.731357Z",
          "shell.execute_reply.started": "2022-03-27T06:59:38.677799Z",
          "shell.execute_reply": "2022-03-27T06:59:38.730385Z"
        },
        "trusted": true,
        "colab": {
          "base_uri": "https://localhost:8080/"
        },
        "id": "UK3h-IWkhBay",
        "outputId": "deefd492-7f24-42ba-917a-899da9568f0a"
      },
      "execution_count": null,
      "outputs": [
        {
          "output_type": "stream",
          "name": "stdout",
          "text": [
            "accuracy with model 1 is :0.8032786885245902\n",
            "accuracy with model 2 is :0.8852459016393442\n",
            "accuracy with model 3 is :0.8032786885245902\n",
            "accuracy with model 4 is :0.7049180327868853\n",
            "accuracy with model 5 is :0.8524590163934426\n",
            "accuracy with model 6 is :0.8360655737704918\n",
            "accuracy with ensemble is :0.8524590163934426\n"
          ]
        }
      ]
    },
    {
      "cell_type": "markdown",
      "source": [
        "as accuracy of ensemble is no better than model6 lets compare confusion and auc roc "
      ],
      "metadata": {
        "id": "iqOQM23chBaz"
      }
    },
    {
      "cell_type": "code",
      "source": [
        "from sklearn.metrics import plot_confusion_matrix\n",
        "plot_confusion_matrix(sclf,X_test,y_test)"
      ],
      "metadata": {
        "execution": {
          "iopub.status.busy": "2022-03-27T07:01:58.723315Z",
          "iopub.execute_input": "2022-03-27T07:01:58.723624Z",
          "iopub.status.idle": "2022-03-27T07:01:58.958443Z",
          "shell.execute_reply.started": "2022-03-27T07:01:58.723594Z",
          "shell.execute_reply": "2022-03-27T07:01:58.957037Z"
        },
        "trusted": true,
        "colab": {
          "base_uri": "https://localhost:8080/",
          "height": 296
        },
        "id": "MWJPNc1HhBa1",
        "outputId": "8bd7af46-895f-41fe-da66-aabc7c4f8447"
      },
      "execution_count": null,
      "outputs": [
        {
          "output_type": "execute_result",
          "data": {
            "text/plain": [
              "<sklearn.metrics._plot.confusion_matrix.ConfusionMatrixDisplay at 0x7ffb2ca84150>"
            ]
          },
          "metadata": {},
          "execution_count": 26
        },
        {
          "output_type": "display_data",
          "data": {
            "text/plain": [
              "<Figure size 432x288 with 2 Axes>"
            ],
            "image/png": "[encoded data removed]"
          },
          "metadata": {
            "needs_background": "light"
          }
        }
      ]
    },
    {
      "cell_type": "code",
      "source": [
        "plot_confusion_matrix(model6,X_test,y_test)"
      ],
      "metadata": {
        "execution": {
          "iopub.status.busy": "2022-03-27T07:02:28.482810Z",
          "iopub.execute_input": "2022-03-27T07:02:28.483317Z",
          "iopub.status.idle": "2022-03-27T07:02:28.707322Z",
          "shell.execute_reply.started": "2022-03-27T07:02:28.483274Z",
          "shell.execute_reply": "2022-03-27T07:02:28.706270Z"
        },
        "trusted": true,
        "colab": {
          "base_uri": "https://localhost:8080/",
          "height": 300
        },
        "id": "bT8nF76ghBa3",
        "outputId": "1350b922-1da5-4281-a0cd-d4e435fbded4"
      },
      "execution_count": null,
      "outputs": [
        {
          "output_type": "execute_result",
          "data": {
            "text/plain": [
              "<sklearn.metrics._plot.confusion_matrix.ConfusionMatrixDisplay at 0x7ffb2c842390>"
            ]
          },
          "metadata": {},
          "execution_count": 27
        },
        {
          "output_type": "display_data",
          "data": {
            "text/plain": [
              "<Figure size 432x288 with 2 Axes>"
            ],
            "image/png": "[encoded data removed]"
          },
          "metadata": {
            "needs_background": "light"
          }
        }
      ]
    },
    {
      "cell_type": "code",
      "source": [
        "roc_auc_score(y_test, sclf.predict(X_test))"
      ],
      "metadata": {
        "execution": {
          "iopub.status.busy": "2022-03-27T07:02:01.012455Z",
          "iopub.execute_input": "2022-03-27T07:02:01.012741Z",
          "iopub.status.idle": "2022-03-27T07:02:01.045607Z",
          "shell.execute_reply.started": "2022-03-27T07:02:01.012712Z",
          "shell.execute_reply": "2022-03-27T07:02:01.044732Z"
        },
        "trusted": true,
        "colab": {
          "base_uri": "https://localhost:8080/"
        },
        "id": "hEHuMCwQhBa3",
        "outputId": "46349050-cb18-4c1d-9b3b-e7acf9a93c33"
      },
      "execution_count": null,
      "outputs": [
        {
          "output_type": "execute_result",
          "data": {
            "text/plain": [
              "0.8526881720430108"
            ]
          },
          "metadata": {},
          "execution_count": 28
        }
      ]
    },
    {
      "cell_type": "code",
      "source": [
        "roc_auc_score(y_test, model6.predict(X_test))"
      ],
      "metadata": {
        "execution": {
          "iopub.status.busy": "2022-03-27T07:03:05.654833Z",
          "iopub.execute_input": "2022-03-27T07:03:05.655114Z",
          "iopub.status.idle": "2022-03-27T07:03:05.667988Z",
          "shell.execute_reply.started": "2022-03-27T07:03:05.655086Z",
          "shell.execute_reply": "2022-03-27T07:03:05.665827Z"
        },
        "trusted": true,
        "colab": {
          "base_uri": "https://localhost:8080/"
        },
        "id": "mmolDN_MhBa4",
        "outputId": "f1b41da2-5e28-4f52-dff4-4bc349743d8b"
      },
      "execution_count": null,
      "outputs": [
        {
          "output_type": "execute_result",
          "data": {
            "text/plain": [
              "0.8338709677419355"
            ]
          },
          "metadata": {},
          "execution_count": 29
        }
      ]
    },
    {
      "cell_type": "markdown",
      "source": [
        "thus in auc roc curve we came to know that ensemble is performing better\n",
        "but ensemble will consume much configurations and i can trade with model6 here"
      ],
      "metadata": {
        "id": "1FTu4TPphBa5"
      }
    },
    {
      "cell_type": "markdown",
      "source": [
        "### Lets predict"
      ],
      "metadata": {
        "id": "a0XNKtW-hBa6"
      }
    },
    {
      "cell_type": "code",
      "source": [
        "g=[28,1,1,138,170,0,1,140,2.0,1,3,2,1]\n",
        "g=np.array(g)\n",
        "model6.predict(g.reshape(1,-1))"
      ],
      "metadata": {
        "execution": {
          "iopub.status.busy": "2022-03-27T07:40:21.510322Z",
          "iopub.execute_input": "2022-03-27T07:40:21.510619Z",
          "iopub.status.idle": "2022-03-27T07:40:21.528432Z",
          "shell.execute_reply.started": "2022-03-27T07:40:21.510587Z",
          "shell.execute_reply": "2022-03-27T07:40:21.526171Z"
        },
        "trusted": true,
        "colab": {
          "base_uri": "https://localhost:8080/"
        },
        "id": "WjL3rVILhBa8",
        "outputId": "c16cb6f3-fae5-4902-c53c-ee5aa04bd315"
      },
      "execution_count": null,
      "outputs": [
        {
          "output_type": "execute_result",
          "data": {
            "text/plain": [
              "array([0])"
            ]
          },
          "metadata": {},
          "execution_count": 36
        }
      ]
    },
    {
      "cell_type": "code",
      "source": [
        "g=[58,1,1,178,210,0,1,210,4.0,1,3,2,1]\n",
        "g=np.array(g)\n",
        "model6.predict(g.reshape(1,-1))"
      ],
      "metadata": {
        "execution": {
          "iopub.status.busy": "2022-03-27T07:40:24.051951Z",
          "iopub.execute_input": "2022-03-27T07:40:24.052239Z",
          "iopub.status.idle": "2022-03-27T07:40:24.072095Z",
          "shell.execute_reply.started": "2022-03-27T07:40:24.052208Z",
          "shell.execute_reply": "2022-03-27T07:40:24.070830Z"
        },
        "trusted": true,
        "colab": {
          "base_uri": "https://localhost:8080/"
        },
        "id": "_X5-O_8WhBa8",
        "outputId": "33012781-7de6-4b34-f10d-2777312acca4"
      },
      "execution_count": null,
      "outputs": [
        {
          "output_type": "execute_result",
          "data": {
            "text/plain": [
              "array([1])"
            ]
          },
          "metadata": {},
          "execution_count": 37
        }
      ]
    },
    {
      "cell_type": "code",
      "source": [
        "import joblib\n",
        "joblib.dump(model6,'model6.pkl') "
      ],
      "metadata": {
        "colab": {
          "base_uri": "https://localhost:8080/"
        },
        "id": "xgpy2o7XjvUm",
        "outputId": "4c25c4ec-4f5f-4f29-d169-238046a8fa47"
      },
      "execution_count": null,
      "outputs": [
        {
          "output_type": "execute_result",
          "data": {
            "text/plain": [
              "['model6.pkl']"
            ]
          },
          "metadata": {},
          "execution_count": 38
        }
      ]
    }
  ]
}