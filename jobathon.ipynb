{
  "cells": [
    {
      "cell_type": "code",
      "execution_count": 1,
      "metadata": {
        "id": "5d00kaFOhpQq"
      },
      "outputs": [],
      "source": [
        "import pandas as pd\n",
        "import numpy as np\n",
        "import time\n",
        "import datetime\n",
        "from sklearn.metrics import f1_score\n",
        "from sklearn.utils import class_weight\n",
        "from xgboost import XGBClassifier\n",
        "from sklearn.metrics import confusion_matrix\n",
        "import matplotlib.pyplot as plt\n",
        "from sklearn.model_selection import train_test_split\n",
        "from xgboost import plot_importance\n",
        "from sklearn.ensemble import RandomForestClassifier"
      ]
    },
    {
      "cell_type": "code",
      "source": [
        "!pip install catboost\n",
        "from catboost import CatBoostClassifier\n",
        "from lightgbm import LGBMClassifier"
      ],
      "metadata": {
        "colab": {
          "base_uri": "https://localhost:8080/"
        },
        "id": "J5H09h3vyEiC",
        "outputId": "3a7d7fa1-8c7a-470f-83ce-a921fdbb513d"
      },
      "execution_count": 2,
      "outputs": [
        {
          "output_type": "stream",
          "name": "stdout",
          "text": [
            "Looking in indexes: https://pypi.org/simple, https://us-python.pkg.dev/colab-wheels/public/simple/\n",
            "Collecting catboost\n",
            "  Downloading catboost-1.0.6-cp37-none-manylinux1_x86_64.whl (76.6 MB)\n",
            "\u001b[K     |████████████████████████████████| 76.6 MB 62 kB/s \n",
            "\u001b[?25hRequirement already satisfied: matplotlib in /usr/local/lib/python3.7/dist-packages (from catboost) (3.2.2)\n",
            "Requirement already satisfied: plotly in /usr/local/lib/python3.7/dist-packages (from catboost) (5.5.0)\n",
            "Requirement already satisfied: scipy in /usr/local/lib/python3.7/dist-packages (from catboost) (1.4.1)\n",
            "Requirement already satisfied: graphviz in /usr/local/lib/python3.7/dist-packages (from catboost) (0.10.1)\n",
            "Requirement already satisfied: six in /usr/local/lib/python3.7/dist-packages (from catboost) (1.15.0)\n",
            "Requirement already satisfied: pandas>=0.24.0 in /usr/local/lib/python3.7/dist-packages (from catboost) (1.3.5)\n",
            "Requirement already satisfied: numpy>=1.16.0 in /usr/local/lib/python3.7/dist-packages (from catboost) (1.21.6)\n",
            "Requirement already satisfied: python-dateutil>=2.7.3 in /usr/local/lib/python3.7/dist-packages (from pandas>=0.24.0->catboost) (2.8.2)\n",
            "Requirement already satisfied: pytz>=2017.3 in /usr/local/lib/python3.7/dist-packages (from pandas>=0.24.0->catboost) (2022.1)\n",
            "Requirement already satisfied: pyparsing!=2.0.4,!=2.1.2,!=2.1.6,>=2.0.1 in /usr/local/lib/python3.7/dist-packages (from matplotlib->catboost) (3.0.9)\n",
            "Requirement already satisfied: kiwisolver>=1.0.1 in /usr/local/lib/python3.7/dist-packages (from matplotlib->catboost) (1.4.2)\n",
            "Requirement already satisfied: cycler>=0.10 in /usr/local/lib/python3.7/dist-packages (from matplotlib->catboost) (0.11.0)\n",
            "Requirement already satisfied: typing-extensions in /usr/local/lib/python3.7/dist-packages (from kiwisolver>=1.0.1->matplotlib->catboost) (4.2.0)\n",
            "Requirement already satisfied: tenacity>=6.2.0 in /usr/local/lib/python3.7/dist-packages (from plotly->catboost) (8.0.1)\n",
            "Installing collected packages: catboost\n",
            "Successfully installed catboost-1.0.6\n"
          ]
        }
      ]
    },
    {
      "cell_type": "markdown",
      "metadata": {
        "id": "8v5hJ7LQh-pe"
      },
      "source": [
        "##data analysis"
      ]
    },
    {
      "cell_type": "code",
      "execution_count": 3,
      "metadata": {
        "id": "H42r6C-dh-2z",
        "colab": {
          "base_uri": "https://localhost:8080/"
        },
        "outputId": "cd5e77bd-9919-4e72-c086-6aa0f8b4384e"
      },
      "outputs": [
        {
          "output_type": "stream",
          "name": "stdout",
          "text": [
            "--2022-06-05 16:43:07--  https://datahack-prod.s3.amazonaws.com/train_file/train_wn75k28.csv\n",
            "Resolving datahack-prod.s3.amazonaws.com (datahack-prod.s3.amazonaws.com)... 52.219.160.167\n",
            "Connecting to datahack-prod.s3.amazonaws.com (datahack-prod.s3.amazonaws.com)|52.219.160.167|:443... connected.\n",
            "HTTP request sent, awaiting response... 200 OK\n",
            "Length: 2216460 (2.1M) [text/csv]\n",
            "Saving to: ‘train_wn75k28.csv’\n",
            "\n",
            "train_wn75k28.csv   100%[===================>]   2.11M  1.23MB/s    in 1.7s    \n",
            "\n",
            "2022-06-05 16:43:10 (1.23 MB/s) - ‘train_wn75k28.csv’ saved [2216460/2216460]\n",
            "\n"
          ]
        }
      ],
      "source": [
        "!wget --header 'Host: datahack-prod.s3.amazonaws.com' --user-agent 'Mozilla/5.0 (X11; Ubuntu; Linux x86_64; rv:100.0) Gecko/20100101 Firefox/100.0' --header 'Accept: text/html,application/xhtml+xml,application/xml;q=0.9,image/avif,image/webp,*/*;q=0.8' --header 'Accept-Language: en-US,en;q=0.5' --referer 'https://datahack.analyticsvidhya.com/' --header 'DNT: 1' --header 'Upgrade-Insecure-Requests: 1' --header 'Sec-Fetch-Dest: document' --header 'Sec-Fetch-Mode: navigate' --header 'Sec-Fetch-Site: cross-site' --header 'Sec-Fetch-User: ?1' 'https://datahack-prod.s3.amazonaws.com/train_file/train_wn75k28.csv' --output-document 'train_wn75k28.csv'"
      ]
    },
    {
      "cell_type": "code",
      "execution_count": 4,
      "metadata": {
        "colab": {
          "base_uri": "https://localhost:8080/",
          "height": 176
        },
        "id": "rt4fUI8liDeF",
        "outputId": "7bb17787-4cce-430b-aff9-01e648afd7d8"
      },
      "outputs": [
        {
          "output_type": "execute_result",
          "data": {
            "text/plain": [
              "   id  created_at  campaign_var_1  campaign_var_2  products_purchased  \\\n",
              "0   1  2021-01-01               1               2                 2.0   \n",
              "1   2  2021-01-01               2               1                 2.0   \n",
              "\n",
              "  signup_date  user_activity_var_1  user_activity_var_2  user_activity_var_3  \\\n",
              "0  2020-09-24                    0                    0                    0   \n",
              "1  2020-09-19                    1                    0                    1   \n",
              "\n",
              "   user_activity_var_4  user_activity_var_5  user_activity_var_6  \\\n",
              "0                    0                    0                    0   \n",
              "1                    0                    0                    0   \n",
              "\n",
              "   user_activity_var_7  user_activity_var_8  user_activity_var_9  \\\n",
              "0                    1                    1                    0   \n",
              "1                    1                    0                    0   \n",
              "\n",
              "   user_activity_var_10  user_activity_var_11  user_activity_var_12  buy  \n",
              "0                     0                     0                     0    0  \n",
              "1                     0                     0                     0    0  "
            ],
            "text/html": [
              "\n",
              "  <div id=\"df-f5c702b9-0d59-4623-8aa1-d67012264122\">\n",
              "    <div class=\"colab-df-container\">\n",
              "      <div>\n",
              "<style scoped>\n",
              "    .dataframe tbody tr th:only-of-type {\n",
              "        vertical-align: middle;\n",
              "    }\n",
              "\n",
              "    .dataframe tbody tr th {\n",
              "        vertical-align: top;\n",
              "    }\n",
              "\n",
              "    .dataframe thead th {\n",
              "        text-align: right;\n",
              "    }\n",
              "</style>\n",
              "<table border=\"1\" class=\"dataframe\">\n",
              "  <thead>\n",
              "    <tr style=\"text-align: right;\">\n",
              "      <th></th>\n",
              "      <th>id</th>\n",
              "      <th>created_at</th>\n",
              "      <th>campaign_var_1</th>\n",
              "      <th>campaign_var_2</th>\n",
              "      <th>products_purchased</th>\n",
              "      <th>signup_date</th>\n",
              "      <th>user_activity_var_1</th>\n",
              "      <th>user_activity_var_2</th>\n",
              "      <th>user_activity_var_3</th>\n",
              "      <th>user_activity_var_4</th>\n",
              "      <th>user_activity_var_5</th>\n",
              "      <th>user_activity_var_6</th>\n",
              "      <th>user_activity_var_7</th>\n",
              "      <th>user_activity_var_8</th>\n",
              "      <th>user_activity_var_9</th>\n",
              "      <th>user_activity_var_10</th>\n",
              "      <th>user_activity_var_11</th>\n",
              "      <th>user_activity_var_12</th>\n",
              "      <th>buy</th>\n",
              "    </tr>\n",
              "  </thead>\n",
              "  <tbody>\n",
              "    <tr>\n",
              "      <th>0</th>\n",
              "      <td>1</td>\n",
              "      <td>2021-01-01</td>\n",
              "      <td>1</td>\n",
              "      <td>2</td>\n",
              "      <td>2.0</td>\n",
              "      <td>2020-09-24</td>\n",
              "      <td>0</td>\n",
              "      <td>0</td>\n",
              "      <td>0</td>\n",
              "      <td>0</td>\n",
              "      <td>0</td>\n",
              "      <td>0</td>\n",
              "      <td>1</td>\n",
              "      <td>1</td>\n",
              "      <td>0</td>\n",
              "      <td>0</td>\n",
              "      <td>0</td>\n",
              "      <td>0</td>\n",
              "      <td>0</td>\n",
              "    </tr>\n",
              "    <tr>\n",
              "      <th>1</th>\n",
              "      <td>2</td>\n",
              "      <td>2021-01-01</td>\n",
              "      <td>2</td>\n",
              "      <td>1</td>\n",
              "      <td>2.0</td>\n",
              "      <td>2020-09-19</td>\n",
              "      <td>1</td>\n",
              "      <td>0</td>\n",
              "      <td>1</td>\n",
              "      <td>0</td>\n",
              "      <td>0</td>\n",
              "      <td>0</td>\n",
              "      <td>1</td>\n",
              "      <td>0</td>\n",
              "      <td>0</td>\n",
              "      <td>0</td>\n",
              "      <td>0</td>\n",
              "      <td>0</td>\n",
              "      <td>0</td>\n",
              "    </tr>\n",
              "  </tbody>\n",
              "</table>\n",
              "</div>\n",
              "      <button class=\"colab-df-convert\" onclick=\"convertToInteractive('df-f5c702b9-0d59-4623-8aa1-d67012264122')\"\n",
              "              title=\"Convert this dataframe to an interactive table.\"\n",
              "              style=\"display:none;\">\n",
              "        \n",
              "  <svg xmlns=\"http://www.w3.org/2000/svg\" height=\"24px\"viewBox=\"0 0 24 24\"\n",
              "       width=\"24px\">\n",
              "    <path d=\"M0 0h24v24H0V0z\" fill=\"none\"/>\n",
              "    <path d=\"M18.56 5.44l.94 2.06.94-2.06 2.06-.94-2.06-.94-.94-2.06-.94 2.06-2.06.94zm-11 1L8.5 8.5l.94-2.06 2.06-.94-2.06-.94L8.5 2.5l-.94 2.06-2.06.94zm10 10l.94 2.06.94-2.06 2.06-.94-2.06-.94-.94-2.06-.94 2.06-2.06.94z\"/><path d=\"M17.41 7.96l-1.37-1.37c-.4-.4-.92-.59-1.43-.59-.52 0-1.04.2-1.43.59L10.3 9.45l-7.72 7.72c-.78.78-.78 2.05 0 2.83L4 21.41c.39.39.9.59 1.41.59.51 0 1.02-.2 1.41-.59l7.78-7.78 2.81-2.81c.8-.78.8-2.07 0-2.86zM5.41 20L4 18.59l7.72-7.72 1.47 1.35L5.41 20z\"/>\n",
              "  </svg>\n",
              "      </button>\n",
              "      \n",
              "  <style>\n",
              "    .colab-df-container {\n",
              "      display:flex;\n",
              "      flex-wrap:wrap;\n",
              "      gap: 12px;\n",
              "    }\n",
              "\n",
              "    .colab-df-convert {\n",
              "      background-color: #E8F0FE;\n",
              "      border: none;\n",
              "      border-radius: 50%;\n",
              "      cursor: pointer;\n",
              "      display: none;\n",
              "      fill: #1967D2;\n",
              "      height: 32px;\n",
              "      padding: 0 0 0 0;\n",
              "      width: 32px;\n",
              "    }\n",
              "\n",
              "    .colab-df-convert:hover {\n",
              "      background-color: #E2EBFA;\n",
              "      box-shadow: 0px 1px 2px rgba(60, 64, 67, 0.3), 0px 1px 3px 1px rgba(60, 64, 67, 0.15);\n",
              "      fill: #174EA6;\n",
              "    }\n",
              "\n",
              "    [theme=dark] .colab-df-convert {\n",
              "      background-color: #3B4455;\n",
              "      fill: #D2E3FC;\n",
              "    }\n",
              "\n",
              "    [theme=dark] .colab-df-convert:hover {\n",
              "      background-color: #434B5C;\n",
              "      box-shadow: 0px 1px 3px 1px rgba(0, 0, 0, 0.15);\n",
              "      filter: drop-shadow(0px 1px 2px rgba(0, 0, 0, 0.3));\n",
              "      fill: #FFFFFF;\n",
              "    }\n",
              "  </style>\n",
              "\n",
              "      <script>\n",
              "        const buttonEl =\n",
              "          document.querySelector('#df-f5c702b9-0d59-4623-8aa1-d67012264122 button.colab-df-convert');\n",
              "        buttonEl.style.display =\n",
              "          google.colab.kernel.accessAllowed ? 'block' : 'none';\n",
              "\n",
              "        async function convertToInteractive(key) {\n",
              "          const element = document.querySelector('#df-f5c702b9-0d59-4623-8aa1-d67012264122');\n",
              "          const dataTable =\n",
              "            await google.colab.kernel.invokeFunction('convertToInteractive',\n",
              "                                                     [key], {});\n",
              "          if (!dataTable) return;\n",
              "\n",
              "          const docLinkHtml = 'Like what you see? Visit the ' +\n",
              "            '<a target=\"_blank\" href=https://colab.research.google.com/notebooks/data_table.ipynb>data table notebook</a>'\n",
              "            + ' to learn more about interactive tables.';\n",
              "          element.innerHTML = '';\n",
              "          dataTable['output_type'] = 'display_data';\n",
              "          await google.colab.output.renderOutput(dataTable, element);\n",
              "          const docLink = document.createElement('div');\n",
              "          docLink.innerHTML = docLinkHtml;\n",
              "          element.appendChild(docLink);\n",
              "        }\n",
              "      </script>\n",
              "    </div>\n",
              "  </div>\n",
              "  "
            ]
          },
          "metadata": {},
          "execution_count": 4
        }
      ],
      "source": [
        "df=pd.read_csv(\"train_wn75k28.csv\")\n",
        "df.head(2)"
      ]
    },
    {
      "cell_type": "code",
      "execution_count": 5,
      "metadata": {
        "id": "3FzgppTdi9h8"
      },
      "outputs": [],
      "source": [
        "def dates(string):\n",
        "  try:\n",
        "    return time.mktime(datetime.datetime.strptime(string,\"%Y-%m-%d\").timetuple())\n",
        "  except:\n",
        "    return np.nan\n",
        "df.created_at=df.created_at.apply(dates)\n",
        "df.signup_date=df.signup_date.apply(dates)"
      ]
    },
    {
      "cell_type": "code",
      "execution_count": 6,
      "metadata": {
        "colab": {
          "base_uri": "https://localhost:8080/"
        },
        "id": "vGZtPjLKj5xG",
        "outputId": "45d0272c-a6fa-4170-a7c6-cfe139a436af"
      },
      "outputs": [
        {
          "output_type": "stream",
          "name": "stdout",
          "text": [
            "% of null signup dates 0.38591966497280455\n",
            "% of null created at dates 0.0\n"
          ]
        }
      ],
      "source": [
        "print('% of null signup dates',df.signup_date.isnull().sum()/df.shape[0])\n",
        "print('% of null created at dates',df.created_at.isnull().sum()/df.shape[0])"
      ]
    },
    {
      "cell_type": "markdown",
      "metadata": {
        "id": "5sHL75KMkl8x"
      },
      "source": [
        "lets try to replace null signup dates with created at dates"
      ]
    },
    {
      "cell_type": "code",
      "execution_count": 7,
      "metadata": {
        "colab": {
          "base_uri": "https://localhost:8080/"
        },
        "id": "6nuhDTfHlzUm",
        "outputId": "53cdd36c-a81e-4566-859f-b348f9ad3ee8"
      },
      "outputs": [
        {
          "output_type": "stream",
          "name": "stderr",
          "text": [
            "/usr/local/lib/python3.7/dist-packages/pandas/core/indexing.py:1732: SettingWithCopyWarning: \n",
            "A value is trying to be set on a copy of a slice from a DataFrame\n",
            "\n",
            "See the caveats in the documentation: https://pandas.pydata.org/pandas-docs/stable/user_guide/indexing.html#returning-a-view-versus-a-copy\n",
            "  self._setitem_single_block(indexer, value, name)\n"
          ]
        }
      ],
      "source": [
        "k=df[df.signup_date.isnull()].index\n",
        "for i in k:\n",
        "  df.signup_date.iloc[i]=df.created_at.iloc[i]\n",
        "\n",
        "df['diff']=df['signup_date']-df['created_at']"
      ]
    },
    {
      "cell_type": "code",
      "execution_count": 8,
      "metadata": {
        "colab": {
          "base_uri": "https://localhost:8080/"
        },
        "id": "wz2DJT8cmyVW",
        "outputId": "0a45764e-a123-4c3b-d17f-217b26cc2af7"
      },
      "outputs": [
        {
          "output_type": "stream",
          "name": "stdout",
          "text": [
            "20911 products_purchased\n"
          ]
        }
      ],
      "source": [
        "for i in df.columns:\n",
        "  if df[i].isnull().sum()>0:\n",
        "   print(df[i].isnull().sum(),i)"
      ]
    },
    {
      "cell_type": "markdown",
      "source": [
        "## products purchase"
      ],
      "metadata": {
        "id": "az3nv-JcdCDn"
      }
    },
    {
      "cell_type": "code",
      "source": [
        "data=df.dropna()\n",
        "y=data.products_purchased\n",
        "x=data.drop(['id','signup_date','buy','products_purchased'],axis=1)"
      ],
      "metadata": {
        "id": "Hk2K6VJxc0Mf"
      },
      "execution_count": 9,
      "outputs": []
    },
    {
      "cell_type": "code",
      "source": [
        "class_weights = class_weight.compute_class_weight(class_weight = \"balanced\",\n",
        "                                        classes = np.unique(y),\n",
        "                                        y = y )\n",
        "class_weights=dict(zip(np.unique(y), class_weights))\n",
        "class_weights"
      ],
      "metadata": {
        "colab": {
          "base_uri": "https://localhost:8080/"
        },
        "id": "RZQFpNqMeKft",
        "outputId": "8bd565ce-1870-44bd-9479-6b71c0be09c5"
      },
      "execution_count": 10,
      "outputs": [
        {
          "output_type": "execute_result",
          "data": {
            "text/plain": [
              "{1.0: 1.2524018665934669,\n",
              " 2.0: 0.5145483252509304,\n",
              " 3.0: 0.908140923566879,\n",
              " 4.0: 6.3722067039106145}"
            ]
          },
          "metadata": {},
          "execution_count": 10
        }
      ]
    },
    {
      "cell_type": "code",
      "source": [
        "from sklearn.linear_model import LogisticRegression\n",
        "lr = LogisticRegression(multi_class='multinomial',class_weight=class_weights)\n",
        "lr.fit(x,y)"
      ],
      "metadata": {
        "colab": {
          "base_uri": "https://localhost:8080/"
        },
        "id": "CKnPGEJNe8tg",
        "outputId": "fcadd84c-b2c8-4ca8-b787-12b7806313ad"
      },
      "execution_count": 11,
      "outputs": [
        {
          "output_type": "execute_result",
          "data": {
            "text/plain": [
              "LogisticRegression(class_weight={1.0: 1.2524018665934669,\n",
              "                                 2.0: 0.5145483252509304,\n",
              "                                 3.0: 0.908140923566879,\n",
              "                                 4.0: 6.3722067039106145},\n",
              "                   multi_class='multinomial')"
            ]
          },
          "metadata": {},
          "execution_count": 11
        }
      ]
    },
    {
      "cell_type": "code",
      "source": [
        "k=df[df.products_purchased.isnull()].index\n",
        "data=df.drop(['id','signup_date','buy','products_purchased'],axis=1)\n",
        "j=lr.predict(data)\n",
        "for i in k:\n",
        "  df['products_purchased'].iloc[i]=j[i]"
      ],
      "metadata": {
        "colab": {
          "base_uri": "https://localhost:8080/"
        },
        "id": "vV7y1O0vgYry",
        "outputId": "66c8f317-2a44-4dad-be4b-e823db6de9a9"
      },
      "execution_count": 12,
      "outputs": [
        {
          "output_type": "stream",
          "name": "stderr",
          "text": [
            "/usr/local/lib/python3.7/dist-packages/pandas/core/indexing.py:1732: SettingWithCopyWarning: \n",
            "A value is trying to be set on a copy of a slice from a DataFrame\n",
            "\n",
            "See the caveats in the documentation: https://pandas.pydata.org/pandas-docs/stable/user_guide/indexing.html#returning-a-view-versus-a-copy\n",
            "  self._setitem_single_block(indexer, value, name)\n"
          ]
        }
      ]
    },
    {
      "cell_type": "markdown",
      "source": [
        "##rest"
      ],
      "metadata": {
        "id": "RSNgfabBdHUE"
      }
    },
    {
      "cell_type": "code",
      "execution_count": 13,
      "metadata": {
        "colab": {
          "base_uri": "https://localhost:8080/"
        },
        "id": "uI-k67KC2X_I",
        "outputId": "65f71f29-3217-4ae8-d4b0-d3727babfdfd"
      },
      "outputs": [
        {
          "output_type": "stream",
          "name": "stdout",
          "text": [
            "id 39161\n",
            "created_at 365\n",
            "campaign_var_1 16\n",
            "campaign_var_2 15\n",
            "products_purchased 4\n",
            "signup_date 1800\n",
            "user_activity_var_1 4\n",
            "user_activity_var_5 3\n",
            "user_activity_var_6 4\n",
            "user_activity_var_7 3\n",
            "user_activity_var_8 3\n",
            "user_activity_var_11 5\n",
            "diff 1940\n"
          ]
        }
      ],
      "source": [
        "for i in df.columns:\n",
        "  if len(df[i].unique())>2:\n",
        "    print(i,len(df[i].unique()))"
      ]
    },
    {
      "cell_type": "code",
      "execution_count": 14,
      "metadata": {
        "id": "gacskcAz60h0"
      },
      "outputs": [],
      "source": [
        "def ohe(df):\n",
        "  var1_dummy=pd.get_dummies(df['campaign_var_1'],prefix='campaign_var_1')\n",
        "  var2_dummy=pd.get_dummies(df['campaign_var_2'],prefix='campaign_var_2')\n",
        "  '''\n",
        "  uv1_dummy=pd.get_dummies(df['user_activity_var_1'],prefix='user_activity_var_1')\n",
        "  uv5_dummy=pd.get_dummies(df['user_activity_var_5'],prefix='user_activity_var_5')\n",
        "  uv6_dummy=pd.get_dummies(df['user_activity_var_6'],prefix='user_activity_var_6')\n",
        "  uv7_dummy=pd.get_dummies(df['user_activity_var_7'],prefix='user_activity_var_7')\n",
        "  uv8_dummy=pd.get_dummies(df['user_activity_var_8'],prefix='user_activity_var_8')\n",
        "  uv11_dummy=pd.get_dummies(df['user_activity_var_11'],prefix='user_activity_var_11')\n",
        "  '''\n",
        "  train=pd.concat([df,var1_dummy,var2_dummy],axis=1)#,uv1_dummy,uv5_dummy,uv6_dummy,uv7_dummy,uv8_dummy,uv11_dummy],axis=1)\n",
        "  train.drop(['campaign_var_1','campaign_var_2'],axis=1,inplace=True)#,'user_activity_var_1','user_activity_var_5','user_activity_var_6','user_activity_var_7','user_activity_var_8','user_activity_var_11'],axis=1,inplace=True)\n",
        "  return train\n",
        "\n",
        "train=ohe(df)"
      ]
    },
    {
      "cell_type": "code",
      "execution_count": 15,
      "metadata": {
        "id": "8Fin2ci6n1Ix"
      },
      "outputs": [],
      "source": [
        "y=train.buy\n",
        "x=train.drop(['buy','id','signup_date'],axis=1)"
      ]
    },
    {
      "cell_type": "markdown",
      "metadata": {
        "id": "YpN_PUvEpoKW"
      },
      "source": [
        "data is highly imbalanced"
      ]
    },
    {
      "cell_type": "code",
      "execution_count": 16,
      "metadata": {
        "id": "nRNRbK_6ADHY"
      },
      "outputs": [],
      "source": [
        "X_train, X_test, y_train, y_test = train_test_split(x, y, test_size=0.2, stratify=y,random_state=15)"
      ]
    },
    {
      "cell_type": "code",
      "execution_count": 17,
      "metadata": {
        "colab": {
          "base_uri": "https://localhost:8080/"
        },
        "id": "MPOtVh4eoQS0",
        "outputId": "f8d25f50-1532-41b5-eec5-2db13d79b4fd"
      },
      "outputs": [
        {
          "output_type": "execute_result",
          "data": {
            "text/plain": [
              "{0: 0.5268815757608374, 1: 9.80005005005005}"
            ]
          },
          "metadata": {},
          "execution_count": 17
        }
      ],
      "source": [
        "def f1_eval(y_pred, dtrain):\n",
        "    y_true = dtrain.get_label()\n",
        "    err = 1-f1_score(y_true, np.round(y_pred))\n",
        "    return 'f1_err', err\n",
        "\n",
        "class_weights = class_weight.compute_class_weight(class_weight = \"balanced\",\n",
        "                                        classes = np.unique(y),\n",
        "                                        y = y )\n",
        "class_weights=dict(zip(np.unique(y), class_weights))\n",
        "class_weights"
      ]
    },
    {
      "cell_type": "code",
      "execution_count": 18,
      "metadata": {
        "colab": {
          "base_uri": "https://localhost:8080/"
        },
        "id": "etPtlS48ooL9",
        "outputId": "84985685-5824-4afd-e4b3-3609dbc951b0"
      },
      "outputs": [
        {
          "output_type": "execute_result",
          "data": {
            "text/plain": [
              "(array([[7425,    8],\n",
              "        [ 132,  268]]), 0.7928994082840237)"
            ]
          },
          "metadata": {},
          "execution_count": 18
        }
      ],
      "source": [
        "model = XGBClassifier(learning_rate=0.01,\n",
        "                      max_depth = 8, \n",
        "                      n_estimators = 1800,scale_pos_weight=1.5)\n",
        "eval_set = [(X_train, y_train), (X_test, y_test)]\n",
        "model.fit(x,y,eval_metric=f1_eval, eval_set=eval_set, verbose=False)\n",
        "confusion_matrix(y_test,model.predict(X_test)),f1_score(y_test,model.predict(X_test))"
      ]
    },
    {
      "cell_type": "code",
      "source": [
        "lgbm=LGBMClassifier(max_depth=8, learning_rate=0.01, n_estimators=1850,scale_pos_weight=1.5)\n",
        "lgbm.fit(x,y)\n",
        "confusion_matrix(y_test,lgbm.predict(X_test)),f1_score(y_test,lgbm.predict(X_test))"
      ],
      "metadata": {
        "colab": {
          "base_uri": "https://localhost:8080/"
        },
        "id": "NqJyP6Utof-6",
        "outputId": "a979bdbd-2d4c-4af0-91d5-0c02a582b254"
      },
      "execution_count": 19,
      "outputs": [
        {
          "output_type": "execute_result",
          "data": {
            "text/plain": [
              "(array([[7424,    9],\n",
              "        [ 133,  267]]), 0.7899408284023668)"
            ]
          },
          "metadata": {},
          "execution_count": 19
        }
      ]
    },
    {
      "cell_type": "code",
      "source": [
        "cb = CatBoostClassifier(iterations=1890,learning_rate=0.01,depth=8,scale_pos_weight=1.5)\n",
        "cb.fit(x,y, verbose=False)\n",
        "confusion_matrix(y_test,cb.predict(X_test)),f1_score(y_test,cb.predict(X_test))"
      ],
      "metadata": {
        "colab": {
          "base_uri": "https://localhost:8080/"
        },
        "id": "MPi9771brkTH",
        "outputId": "131fa4be-1a39-435a-e1d0-b198f2618ff2"
      },
      "execution_count": 20,
      "outputs": [
        {
          "output_type": "execute_result",
          "data": {
            "text/plain": [
              "(array([[7425,    8],\n",
              "        [ 134,  266]]), 0.7893175074183976)"
            ]
          },
          "metadata": {},
          "execution_count": 20
        }
      ]
    },
    {
      "cell_type": "markdown",
      "source": [
        ".7275 800"
      ],
      "metadata": {
        "id": "77JSpPm8snZu"
      }
    },
    {
      "cell_type": "code",
      "execution_count": 21,
      "metadata": {
        "colab": {
          "base_uri": "https://localhost:8080/",
          "height": 716
        },
        "id": "K0gjLVE8Avox",
        "outputId": "f1637486-f56d-4a81-e87b-195f1ea0d06f"
      },
      "outputs": [
        {
          "output_type": "display_data",
          "data": {
            "text/plain": [
              "<Figure size 864x864 with 1 Axes>"
            ],
            "image/png": "[encoded data removed]"
          },
          "metadata": {
            "needs_background": "light"
          }
        }
      ],
      "source": [
        "results = model.evals_result()\n",
        "epochs = len(results['validation_0']['f1_err'])\n",
        "x_axis = range(0, epochs)\n",
        "fig, ax = plt.subplots(figsize=(12,12))\n",
        "ax.plot(x_axis, results['validation_0']['f1_err'], label='Train')\n",
        "ax.plot(x_axis, results['validation_1']['f1_err'], label='Test')\n",
        "ax.legend()\n",
        "plt.ylabel('f1')\n",
        "plt.title('XGBoost f1')\n",
        "plt.grid()\n",
        "plt.show()"
      ]
    },
    {
      "cell_type": "code",
      "execution_count": 22,
      "metadata": {
        "colab": {
          "base_uri": "https://localhost:8080/",
          "height": 1000
        },
        "id": "EzhZoaKuCgRK",
        "outputId": "f2fb160a-3e82-4340-89fc-63f6b39243f5"
      },
      "outputs": [
        {
          "output_type": "display_data",
          "data": {
            "text/plain": [
              "<Figure size 720x1440 with 1 Axes>"
            ],
            "image/png": "[encoded data removed]"
          },
          "metadata": {
            "needs_background": "light"
          }
        }
      ],
      "source": [
        "fig, ax = plt.subplots(figsize=(10, 20))\n",
        "plot_importance(model,ax=ax)\n",
        "plt.show()"
      ]
    },
    {
      "cell_type": "code",
      "source": [
        "pred=pd.DataFrame()\n",
        "pred['xgb']=model.predict(x)\n",
        "pred['cb']=cb.predict(x)\n",
        "pred['lgbm']=lgbm.predict(x)\n",
        "X=pd.concat([x.reset_index(drop=True),pred.reset_index(drop=True)],axis=1)"
      ],
      "metadata": {
        "id": "sn9EzntWBdsh"
      },
      "execution_count": 23,
      "outputs": []
    },
    {
      "cell_type": "code",
      "source": [
        "cb2 = CatBoostClassifier(iterations=1820,learning_rate=0.01,depth=8,scale_pos_weight=1.5)\n",
        "cb2.fit(X,y, verbose=False)"
      ],
      "metadata": {
        "colab": {
          "base_uri": "https://localhost:8080/"
        },
        "id": "3YrQZzf7B8Zq",
        "outputId": "804a5344-8336-4e30-9a32-fb7e7658b714"
      },
      "execution_count": 39,
      "outputs": [
        {
          "output_type": "execute_result",
          "data": {
            "text/plain": [
              "XGBClassifier(learning_rate=0.01, max_depth=8, n_estimators=1800,\n",
              "              scale_pos_weight=1.5)"
            ]
          },
          "metadata": {},
          "execution_count": 39
        }
      ]
    },
    {
      "cell_type": "markdown",
      "metadata": {
        "id": "rVxWzlD64jlI"
      },
      "source": [
        "## test"
      ]
    },
    {
      "cell_type": "code",
      "execution_count": 25,
      "metadata": {
        "id": "335LqZiFvRgZ",
        "colab": {
          "base_uri": "https://localhost:8080/"
        },
        "outputId": "e31d4dac-4d33-4bf0-cdf1-1ce97a4d4d86"
      },
      "outputs": [
        {
          "output_type": "stream",
          "name": "stdout",
          "text": [
            "--2022-06-05 16:49:31--  https://datahack-prod.s3.amazonaws.com/test_file/test_Wf7sxXF.csv\n",
            "Resolving datahack-prod.s3.amazonaws.com (datahack-prod.s3.amazonaws.com)... 52.219.62.16\n",
            "Connecting to datahack-prod.s3.amazonaws.com (datahack-prod.s3.amazonaws.com)|52.219.62.16|:443... connected.\n",
            "HTTP request sent, awaiting response... 200 OK\n",
            "Length: 708421 (692K) [text/csv]\n",
            "Saving to: ‘test_Wf7sxXF.csv’\n",
            "\n",
            "test_Wf7sxXF.csv    100%[===================>] 691.82K   571KB/s    in 1.2s    \n",
            "\n",
            "2022-06-05 16:49:33 (571 KB/s) - ‘test_Wf7sxXF.csv’ saved [708421/708421]\n",
            "\n"
          ]
        }
      ],
      "source": [
        "!wget --header 'Host: datahack-prod.s3.amazonaws.com' --user-agent 'Mozilla/5.0 (X11; Ubuntu; Linux x86_64; rv:100.0) Gecko/20100101 Firefox/100.0' --header 'Accept: text/html,application/xhtml+xml,application/xml;q=0.9,image/avif,image/webp,*/*;q=0.8' --header 'Accept-Language: en-US,en;q=0.5' --referer 'https://datahack.analyticsvidhya.com/' --header 'DNT: 1' --header 'Upgrade-Insecure-Requests: 1' --header 'Sec-Fetch-Dest: document' --header 'Sec-Fetch-Mode: navigate' --header 'Sec-Fetch-Site: cross-site' --header 'Sec-Fetch-User: ?1' 'https://datahack-prod.s3.amazonaws.com/test_file/test_Wf7sxXF.csv' --output-document 'test_Wf7sxXF.csv'"
      ]
    },
    {
      "cell_type": "code",
      "execution_count": 26,
      "metadata": {
        "id": "6X49eGxGwZox"
      },
      "outputs": [],
      "source": [
        "test=pd.read_csv(\"/content/test_Wf7sxXF.csv\")"
      ]
    },
    {
      "cell_type": "code",
      "execution_count": 27,
      "metadata": {
        "id": "ixmAdsU6wxiw"
      },
      "outputs": [],
      "source": [
        "test.created_at=test.created_at.apply(dates)\n",
        "test.signup_date=test.signup_date.apply(dates)"
      ]
    },
    {
      "cell_type": "code",
      "execution_count": 28,
      "metadata": {
        "id": "_zUVFBd2zJgd",
        "colab": {
          "base_uri": "https://localhost:8080/"
        },
        "outputId": "0eeb848e-ae74-48bd-a17f-eb2b754a5623"
      },
      "outputs": [
        {
          "output_type": "stream",
          "name": "stderr",
          "text": [
            "/usr/local/lib/python3.7/dist-packages/pandas/core/indexing.py:1732: SettingWithCopyWarning: \n",
            "A value is trying to be set on a copy of a slice from a DataFrame\n",
            "\n",
            "See the caveats in the documentation: https://pandas.pydata.org/pandas-docs/stable/user_guide/indexing.html#returning-a-view-versus-a-copy\n",
            "  self._setitem_single_block(indexer, value, name)\n"
          ]
        }
      ],
      "source": [
        "k=test[test.signup_date.isnull()].index\n",
        "for i in k:\n",
        "  test.signup_date.iloc[i]=test.created_at.iloc[i]"
      ]
    },
    {
      "cell_type": "code",
      "execution_count": 29,
      "metadata": {
        "id": "mZH2HF20zxZC"
      },
      "outputs": [],
      "source": [
        "test['diff']=test['signup_date']-test['created_at']"
      ]
    },
    {
      "cell_type": "code",
      "execution_count": 30,
      "metadata": {
        "id": "ToITJ6lXzUrW",
        "colab": {
          "base_uri": "https://localhost:8080/"
        },
        "outputId": "98677893-83c1-4899-9ea2-b4b95c106612"
      },
      "outputs": [
        {
          "output_type": "stream",
          "name": "stderr",
          "text": [
            "/usr/local/lib/python3.7/dist-packages/pandas/core/indexing.py:1732: SettingWithCopyWarning: \n",
            "A value is trying to be set on a copy of a slice from a DataFrame\n",
            "\n",
            "See the caveats in the documentation: https://pandas.pydata.org/pandas-docs/stable/user_guide/indexing.html#returning-a-view-versus-a-copy\n",
            "  self._setitem_single_block(indexer, value, name)\n"
          ]
        }
      ],
      "source": [
        "k=test[test.products_purchased.isnull()].index\n",
        "data=test.drop(['id','signup_date','products_purchased'],axis=1)\n",
        "j=lr.predict(data)\n",
        "for i in k:\n",
        "  test['products_purchased'].iloc[i]=j[i]"
      ]
    },
    {
      "cell_type": "code",
      "execution_count": 31,
      "metadata": {
        "id": "nRhnCV1zw6zP",
        "colab": {
          "base_uri": "https://localhost:8080/"
        },
        "outputId": "548646e6-3c3f-4787-996e-8021988d0e6f"
      },
      "outputs": [
        {
          "output_type": "stream",
          "name": "stdout",
          "text": [
            "0 id\n",
            "0 created_at\n",
            "0 campaign_var_1\n",
            "0 campaign_var_2\n",
            "0 products_purchased\n",
            "0 signup_date\n",
            "0 user_activity_var_1\n",
            "0 user_activity_var_2\n",
            "0 user_activity_var_3\n",
            "0 user_activity_var_4\n",
            "0 user_activity_var_5\n",
            "0 user_activity_var_6\n",
            "0 user_activity_var_7\n",
            "0 user_activity_var_8\n",
            "0 user_activity_var_9\n",
            "0 user_activity_var_10\n",
            "0 user_activity_var_11\n",
            "0 user_activity_var_12\n",
            "0 diff\n"
          ]
        }
      ],
      "source": [
        "for i in test.columns:\n",
        "  print(test[i].isnull().sum(),i)"
      ]
    },
    {
      "cell_type": "code",
      "source": [
        "#test['user_activity_var_11_4']=0"
      ],
      "metadata": {
        "id": "od5Od5MD5jsN"
      },
      "execution_count": 32,
      "outputs": []
    },
    {
      "cell_type": "code",
      "execution_count": 33,
      "metadata": {
        "id": "NFGQsWFSguNM"
      },
      "outputs": [],
      "source": [
        "x_test=test.drop(['id','signup_date'],axis=1)"
      ]
    },
    {
      "cell_type": "code",
      "execution_count": 34,
      "metadata": {
        "id": "LU5CBJP-hyMk"
      },
      "outputs": [],
      "source": [
        "x_test=ohe(x_test)\n",
        "test['buy']=model.predict(x_test)\n",
        "submission=test[['id','buy']]\n",
        "submission.to_csv(\"submission_xgb.csv\",index=False)"
      ]
    },
    {
      "cell_type": "code",
      "source": [
        "test['buy']=lgbm.predict(x_test)\n",
        "submission=test[['id','buy']]\n",
        "submission.to_csv(\"submission_lgbm.csv\",index=False)"
      ],
      "metadata": {
        "id": "yDRA1B8vz7g0"
      },
      "execution_count": 35,
      "outputs": []
    },
    {
      "cell_type": "code",
      "source": [
        "test['buy']=cb.predict(x_test)\n",
        "submission=test[['id','buy']]\n",
        "submission.to_csv(\"submission_cb.csv\",index=False)"
      ],
      "metadata": {
        "id": "Ymy6D3D_0H6U"
      },
      "execution_count": 36,
      "outputs": []
    },
    {
      "cell_type": "code",
      "source": [
        "pred=pd.DataFrame()\n",
        "pred['xgb']=model.predict(x_test)\n",
        "pred['cb']=cb.predict(x_test)\n",
        "pred['lgbm']=lgbm.predict(x_test)\n",
        "xtest=pd.concat([x_test.reset_index(drop=True),pred.reset_index(drop=True)],axis=1)"
      ],
      "metadata": {
        "id": "kNBN6Jn3CP3Y"
      },
      "execution_count": 37,
      "outputs": []
    },
    {
      "cell_type": "code",
      "source": [
        "test['buy']=cb2.predict(xtest)\n",
        "submission=test[['id','buy']]\n",
        "submission.to_csv(\"submission_ensemble.csv\",index=False)"
      ],
      "metadata": {
        "id": "t912nUiv0MXu"
      },
      "execution_count": 40,
      "outputs": []
    }
  ],
  "metadata": {
    "colab": {
      "collapsed_sections": [],
      "name": "jobathon.ipynb",
      "provenance": []
    },
    "kernelspec": {
      "display_name": "Python 3",
      "name": "python3"
    },
    "language_info": {
      "name": "python"
    }
  },
  "nbformat": 4,
  "nbformat_minor": 0
}
