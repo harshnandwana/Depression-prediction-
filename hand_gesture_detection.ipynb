{
  "cells": [
    {
      "cell_type": "markdown",
      "metadata": {
        "id": "view-in-github",
        "colab_type": "text"
      },
      "source": [
        "<a href=\"https://colab.research.google.com/github/harshnandwana/Machine-learning-projects/blob/main/hand_gesture_detection.ipynb\" target=\"_parent\"><img src=\"https://colab.research.google.com/assets/colab-badge.svg\" alt=\"Open In Colab\"/></a>"
      ]
    },
    {
      "cell_type": "code",
      "execution_count": 3,
      "id": "82ef1700",
      "metadata": {
        "colab": {
          "base_uri": "https://localhost:8080/"
        },
        "id": "82ef1700",
        "outputId": "9ee52a63-d2f1-449f-dbf6-61580e96c2c9"
      },
      "outputs": [
        {
          "output_type": "stream",
          "name": "stdout",
          "text": [
            "Torch Version => 1.13.0+cu116 \n",
            "Is Torch using CUDA => True \n",
            "Total GPU available => 1 \n",
            "Currently using => Tesla T4\n"
          ]
        }
      ],
      "source": [
        "import torch\n",
        "import torch.nn as nn\n",
        "import pandas as pd\n",
        "import numpy as np\n",
        "import matplotlib.pyplot as plt\n",
        "from tqdm.auto import tqdm\n",
        "import seaborn as sns\n",
        "from sklearn.model_selection import train_test_split\n",
        "import plotly.graph_objects as go\n",
        "from torchmetrics import ConfusionMatrix\n",
        "from torchmetrics.classification import MulticlassAccuracy\n",
        "from torchinfo import summary\n",
        "import torch.utils.data as data_utils\n",
        "from torch.optim.lr_scheduler import StepLR\n",
        "\n",
        "device= \"cuda\" if torch.cuda.is_available() else 'cpu'\n",
        "print(\"Torch Version => {} \\nIs Torch using CUDA => {} \\nTotal GPU available => {} \\nCurrently using => {}\".format(torch.__version__,torch.cuda.is_available(), torch.cuda.device_count(), torch.cuda.get_device_name(torch.cuda.current_device())))"
      ]
    },
    {
      "cell_type": "code",
      "source": [
        "!wget https://archive.ics.uci.edu/ml/machine-learning-databases/00405/Postures.zip\n",
        "!unzip Postures.zip"
      ],
      "metadata": {
        "colab": {
          "base_uri": "https://localhost:8080/"
        },
        "id": "K4KK_YMObMgg",
        "outputId": "3f0e34b9-3a01-4ed8-d03b-6ee9d463c138"
      },
      "id": "K4KK_YMObMgg",
      "execution_count": 4,
      "outputs": [
        {
          "output_type": "stream",
          "name": "stdout",
          "text": [
            "--2022-12-29 06:09:49--  https://archive.ics.uci.edu/ml/machine-learning-databases/00405/Postures.zip\n",
            "Resolving archive.ics.uci.edu (archive.ics.uci.edu)... 128.195.10.252\n",
            "Connecting to archive.ics.uci.edu (archive.ics.uci.edu)|128.195.10.252|:443... connected.\n",
            "HTTP request sent, awaiting response... 200 OK\n",
            "Length: 14660674 (14M) [application/x-httpd-php]\n",
            "Saving to: ‘Postures.zip’\n",
            "\n",
            "Postures.zip        100%[===================>]  13.98M  7.59MB/s    in 1.8s    \n",
            "\n",
            "2022-12-29 06:09:52 (7.59 MB/s) - ‘Postures.zip’ saved [14660674/14660674]\n",
            "\n",
            "Archive:  Postures.zip\n",
            "  inflating: Postures.csv            \n"
          ]
        }
      ]
    },
    {
      "cell_type": "code",
      "execution_count": 5,
      "id": "251ce22b",
      "metadata": {
        "colab": {
          "base_uri": "https://localhost:8080/",
          "height": 142
        },
        "id": "251ce22b",
        "outputId": "e48b7c00-6fb8-476a-c5e4-5e061c6956f1"
      },
      "outputs": [
        {
          "output_type": "execute_result",
          "data": {
            "text/plain": [
              "   Class  User        X0         Y0         Z0         X1       Y1         Z1  \\\n",
              "0      0     0   0.00000   0.000000   0.000000   0.000000   0.0000   0.000000   \n",
              "1      1     0  54.26388  71.466776 -64.807709  76.895635  42.4625 -72.780545   \n",
              "\n",
              "          X2         Y2  ...  Z8 X9 Y9 Z9 X10 Y10 Z10 X11 Y11 Z11  \n",
              "0   0.000000   0.000000  ...   0  0  0  0   0   0   0   0   0   0  \n",
              "1  36.621229  81.680557  ...   ?  ?  ?  ?   ?   ?   ?   ?   ?   ?  \n",
              "\n",
              "[2 rows x 38 columns]"
            ],
            "text/html": [
              "\n",
              "  <div id=\"df-e63ba40d-0693-4654-be2e-b67400123a2e\">\n",
              "    <div class=\"colab-df-container\">\n",
              "      <div>\n",
              "<style scoped>\n",
              "    .dataframe tbody tr th:only-of-type {\n",
              "        vertical-align: middle;\n",
              "    }\n",
              "\n",
              "    .dataframe tbody tr th {\n",
              "        vertical-align: top;\n",
              "    }\n",
              "\n",
              "    .dataframe thead th {\n",
              "        text-align: right;\n",
              "    }\n",
              "</style>\n",
              "<table border=\"1\" class=\"dataframe\">\n",
              "  <thead>\n",
              "    <tr style=\"text-align: right;\">\n",
              "      <th></th>\n",
              "      <th>Class</th>\n",
              "      <th>User</th>\n",
              "      <th>X0</th>\n",
              "      <th>Y0</th>\n",
              "      <th>Z0</th>\n",
              "      <th>X1</th>\n",
              "      <th>Y1</th>\n",
              "      <th>Z1</th>\n",
              "      <th>X2</th>\n",
              "      <th>Y2</th>\n",
              "      <th>...</th>\n",
              "      <th>Z8</th>\n",
              "      <th>X9</th>\n",
              "      <th>Y9</th>\n",
              "      <th>Z9</th>\n",
              "      <th>X10</th>\n",
              "      <th>Y10</th>\n",
              "      <th>Z10</th>\n",
              "      <th>X11</th>\n",
              "      <th>Y11</th>\n",
              "      <th>Z11</th>\n",
              "    </tr>\n",
              "  </thead>\n",
              "  <tbody>\n",
              "    <tr>\n",
              "      <th>0</th>\n",
              "      <td>0</td>\n",
              "      <td>0</td>\n",
              "      <td>0.00000</td>\n",
              "      <td>0.000000</td>\n",
              "      <td>0.000000</td>\n",
              "      <td>0.000000</td>\n",
              "      <td>0.0000</td>\n",
              "      <td>0.000000</td>\n",
              "      <td>0.000000</td>\n",
              "      <td>0.000000</td>\n",
              "      <td>...</td>\n",
              "      <td>0</td>\n",
              "      <td>0</td>\n",
              "      <td>0</td>\n",
              "      <td>0</td>\n",
              "      <td>0</td>\n",
              "      <td>0</td>\n",
              "      <td>0</td>\n",
              "      <td>0</td>\n",
              "      <td>0</td>\n",
              "      <td>0</td>\n",
              "    </tr>\n",
              "    <tr>\n",
              "      <th>1</th>\n",
              "      <td>1</td>\n",
              "      <td>0</td>\n",
              "      <td>54.26388</td>\n",
              "      <td>71.466776</td>\n",
              "      <td>-64.807709</td>\n",
              "      <td>76.895635</td>\n",
              "      <td>42.4625</td>\n",
              "      <td>-72.780545</td>\n",
              "      <td>36.621229</td>\n",
              "      <td>81.680557</td>\n",
              "      <td>...</td>\n",
              "      <td>?</td>\n",
              "      <td>?</td>\n",
              "      <td>?</td>\n",
              "      <td>?</td>\n",
              "      <td>?</td>\n",
              "      <td>?</td>\n",
              "      <td>?</td>\n",
              "      <td>?</td>\n",
              "      <td>?</td>\n",
              "      <td>?</td>\n",
              "    </tr>\n",
              "  </tbody>\n",
              "</table>\n",
              "<p>2 rows × 38 columns</p>\n",
              "</div>\n",
              "      <button class=\"colab-df-convert\" onclick=\"convertToInteractive('df-e63ba40d-0693-4654-be2e-b67400123a2e')\"\n",
              "              title=\"Convert this dataframe to an interactive table.\"\n",
              "              style=\"display:none;\">\n",
              "        \n",
              "  <svg xmlns=\"http://www.w3.org/2000/svg\" height=\"24px\"viewBox=\"0 0 24 24\"\n",
              "       width=\"24px\">\n",
              "    <path d=\"M0 0h24v24H0V0z\" fill=\"none\"/>\n",
              "    <path d=\"M18.56 5.44l.94 2.06.94-2.06 2.06-.94-2.06-.94-.94-2.06-.94 2.06-2.06.94zm-11 1L8.5 8.5l.94-2.06 2.06-.94-2.06-.94L8.5 2.5l-.94 2.06-2.06.94zm10 10l.94 2.06.94-2.06 2.06-.94-2.06-.94-.94-2.06-.94 2.06-2.06.94z\"/><path d=\"M17.41 7.96l-1.37-1.37c-.4-.4-.92-.59-1.43-.59-.52 0-1.04.2-1.43.59L10.3 9.45l-7.72 7.72c-.78.78-.78 2.05 0 2.83L4 21.41c.39.39.9.59 1.41.59.51 0 1.02-.2 1.41-.59l7.78-7.78 2.81-2.81c.8-.78.8-2.07 0-2.86zM5.41 20L4 18.59l7.72-7.72 1.47 1.35L5.41 20z\"/>\n",
              "  </svg>\n",
              "      </button>\n",
              "      \n",
              "  <style>\n",
              "    .colab-df-container {\n",
              "      display:flex;\n",
              "      flex-wrap:wrap;\n",
              "      gap: 12px;\n",
              "    }\n",
              "\n",
              "    .colab-df-convert {\n",
              "      background-color: #E8F0FE;\n",
              "      border: none;\n",
              "      border-radius: 50%;\n",
              "      cursor: pointer;\n",
              "      display: none;\n",
              "      fill: #1967D2;\n",
              "      height: 32px;\n",
              "      padding: 0 0 0 0;\n",
              "      width: 32px;\n",
              "    }\n",
              "\n",
              "    .colab-df-convert:hover {\n",
              "      background-color: #E2EBFA;\n",
              "      box-shadow: 0px 1px 2px rgba(60, 64, 67, 0.3), 0px 1px 3px 1px rgba(60, 64, 67, 0.15);\n",
              "      fill: #174EA6;\n",
              "    }\n",
              "\n",
              "    [theme=dark] .colab-df-convert {\n",
              "      background-color: #3B4455;\n",
              "      fill: #D2E3FC;\n",
              "    }\n",
              "\n",
              "    [theme=dark] .colab-df-convert:hover {\n",
              "      background-color: #434B5C;\n",
              "      box-shadow: 0px 1px 3px 1px rgba(0, 0, 0, 0.15);\n",
              "      filter: drop-shadow(0px 1px 2px rgba(0, 0, 0, 0.3));\n",
              "      fill: #FFFFFF;\n",
              "    }\n",
              "  </style>\n",
              "\n",
              "      <script>\n",
              "        const buttonEl =\n",
              "          document.querySelector('#df-e63ba40d-0693-4654-be2e-b67400123a2e button.colab-df-convert');\n",
              "        buttonEl.style.display =\n",
              "          google.colab.kernel.accessAllowed ? 'block' : 'none';\n",
              "\n",
              "        async function convertToInteractive(key) {\n",
              "          const element = document.querySelector('#df-e63ba40d-0693-4654-be2e-b67400123a2e');\n",
              "          const dataTable =\n",
              "            await google.colab.kernel.invokeFunction('convertToInteractive',\n",
              "                                                     [key], {});\n",
              "          if (!dataTable) return;\n",
              "\n",
              "          const docLinkHtml = 'Like what you see? Visit the ' +\n",
              "            '<a target=\"_blank\" href=https://colab.research.google.com/notebooks/data_table.ipynb>data table notebook</a>'\n",
              "            + ' to learn more about interactive tables.';\n",
              "          element.innerHTML = '';\n",
              "          dataTable['output_type'] = 'display_data';\n",
              "          await google.colab.output.renderOutput(dataTable, element);\n",
              "          const docLink = document.createElement('div');\n",
              "          docLink.innerHTML = docLinkHtml;\n",
              "          element.appendChild(docLink);\n",
              "        }\n",
              "      </script>\n",
              "    </div>\n",
              "  </div>\n",
              "  "
            ]
          },
          "metadata": {},
          "execution_count": 5
        }
      ],
      "source": [
        "df=pd.read_csv(\"Postures.csv\")\n",
        "df.head(2)"
      ]
    },
    {
      "cell_type": "code",
      "execution_count": 6,
      "id": "b7c8073e",
      "metadata": {
        "scrolled": true,
        "colab": {
          "base_uri": "https://localhost:8080/",
          "height": 395
        },
        "id": "b7c8073e",
        "outputId": "ad3d3133-f673-4aeb-e832-5c57f0145f5b"
      },
      "outputs": [
        {
          "output_type": "execute_result",
          "data": {
            "text/plain": [
              "         count       mean        std         min        25%        50%  \\\n",
              "Class  78096.0   2.983738   1.421183    0.000000   2.000000   3.000000   \n",
              "User   78096.0   7.959127   4.697810    0.000000   5.000000   9.000000   \n",
              "X0     78096.0  50.345664  32.696173 -108.552738  29.295062  54.619964   \n",
              "Y0     78096.0  85.812051  40.204363  -98.233756  63.494432  86.526246   \n",
              "Z0     78096.0 -29.984712  34.361918 -126.770872 -56.356438 -30.864125   \n",
              "X1     78096.0  49.595209  32.478238 -111.685241  28.755137  54.215514   \n",
              "Y1     78096.0  86.192647  40.453214  -96.142589  64.154529  87.542751   \n",
              "Z1     78096.0 -29.509202  34.764398 -166.006838 -57.360107 -30.184005   \n",
              "X2     78096.0  48.612121  33.605390 -106.886524  25.170006  53.814580   \n",
              "Y2     78096.0  83.771315  41.023543 -100.789312  58.052385  86.458324   \n",
              "Z2     78096.0 -30.560515  35.120329 -129.595296 -58.654059 -32.352414   \n",
              "\n",
              "              75%         max  \n",
              "Class    4.000000    5.000000  \n",
              "User    12.000000   14.000000  \n",
              "X0      72.488686  190.017835  \n",
              "Y0     113.107355  169.175464  \n",
              "Z0      -1.418803  113.345119  \n",
              "X1      71.762039  188.691997  \n",
              "Y1     116.219398  170.209350  \n",
              "Z1      -0.366692  104.697852  \n",
              "X2      71.561951  188.760168  \n",
              "Y2     106.660827  168.186466  \n",
              "Z2      -0.944786  104.590879  "
            ],
            "text/html": [
              "\n",
              "  <div id=\"df-a048defd-2475-4aca-b950-ae55bc13ce3e\">\n",
              "    <div class=\"colab-df-container\">\n",
              "      <div>\n",
              "<style scoped>\n",
              "    .dataframe tbody tr th:only-of-type {\n",
              "        vertical-align: middle;\n",
              "    }\n",
              "\n",
              "    .dataframe tbody tr th {\n",
              "        vertical-align: top;\n",
              "    }\n",
              "\n",
              "    .dataframe thead th {\n",
              "        text-align: right;\n",
              "    }\n",
              "</style>\n",
              "<table border=\"1\" class=\"dataframe\">\n",
              "  <thead>\n",
              "    <tr style=\"text-align: right;\">\n",
              "      <th></th>\n",
              "      <th>count</th>\n",
              "      <th>mean</th>\n",
              "      <th>std</th>\n",
              "      <th>min</th>\n",
              "      <th>25%</th>\n",
              "      <th>50%</th>\n",
              "      <th>75%</th>\n",
              "      <th>max</th>\n",
              "    </tr>\n",
              "  </thead>\n",
              "  <tbody>\n",
              "    <tr>\n",
              "      <th>Class</th>\n",
              "      <td>78096.0</td>\n",
              "      <td>2.983738</td>\n",
              "      <td>1.421183</td>\n",
              "      <td>0.000000</td>\n",
              "      <td>2.000000</td>\n",
              "      <td>3.000000</td>\n",
              "      <td>4.000000</td>\n",
              "      <td>5.000000</td>\n",
              "    </tr>\n",
              "    <tr>\n",
              "      <th>User</th>\n",
              "      <td>78096.0</td>\n",
              "      <td>7.959127</td>\n",
              "      <td>4.697810</td>\n",
              "      <td>0.000000</td>\n",
              "      <td>5.000000</td>\n",
              "      <td>9.000000</td>\n",
              "      <td>12.000000</td>\n",
              "      <td>14.000000</td>\n",
              "    </tr>\n",
              "    <tr>\n",
              "      <th>X0</th>\n",
              "      <td>78096.0</td>\n",
              "      <td>50.345664</td>\n",
              "      <td>32.696173</td>\n",
              "      <td>-108.552738</td>\n",
              "      <td>29.295062</td>\n",
              "      <td>54.619964</td>\n",
              "      <td>72.488686</td>\n",
              "      <td>190.017835</td>\n",
              "    </tr>\n",
              "    <tr>\n",
              "      <th>Y0</th>\n",
              "      <td>78096.0</td>\n",
              "      <td>85.812051</td>\n",
              "      <td>40.204363</td>\n",
              "      <td>-98.233756</td>\n",
              "      <td>63.494432</td>\n",
              "      <td>86.526246</td>\n",
              "      <td>113.107355</td>\n",
              "      <td>169.175464</td>\n",
              "    </tr>\n",
              "    <tr>\n",
              "      <th>Z0</th>\n",
              "      <td>78096.0</td>\n",
              "      <td>-29.984712</td>\n",
              "      <td>34.361918</td>\n",
              "      <td>-126.770872</td>\n",
              "      <td>-56.356438</td>\n",
              "      <td>-30.864125</td>\n",
              "      <td>-1.418803</td>\n",
              "      <td>113.345119</td>\n",
              "    </tr>\n",
              "    <tr>\n",
              "      <th>X1</th>\n",
              "      <td>78096.0</td>\n",
              "      <td>49.595209</td>\n",
              "      <td>32.478238</td>\n",
              "      <td>-111.685241</td>\n",
              "      <td>28.755137</td>\n",
              "      <td>54.215514</td>\n",
              "      <td>71.762039</td>\n",
              "      <td>188.691997</td>\n",
              "    </tr>\n",
              "    <tr>\n",
              "      <th>Y1</th>\n",
              "      <td>78096.0</td>\n",
              "      <td>86.192647</td>\n",
              "      <td>40.453214</td>\n",
              "      <td>-96.142589</td>\n",
              "      <td>64.154529</td>\n",
              "      <td>87.542751</td>\n",
              "      <td>116.219398</td>\n",
              "      <td>170.209350</td>\n",
              "    </tr>\n",
              "    <tr>\n",
              "      <th>Z1</th>\n",
              "      <td>78096.0</td>\n",
              "      <td>-29.509202</td>\n",
              "      <td>34.764398</td>\n",
              "      <td>-166.006838</td>\n",
              "      <td>-57.360107</td>\n",
              "      <td>-30.184005</td>\n",
              "      <td>-0.366692</td>\n",
              "      <td>104.697852</td>\n",
              "    </tr>\n",
              "    <tr>\n",
              "      <th>X2</th>\n",
              "      <td>78096.0</td>\n",
              "      <td>48.612121</td>\n",
              "      <td>33.605390</td>\n",
              "      <td>-106.886524</td>\n",
              "      <td>25.170006</td>\n",
              "      <td>53.814580</td>\n",
              "      <td>71.561951</td>\n",
              "      <td>188.760168</td>\n",
              "    </tr>\n",
              "    <tr>\n",
              "      <th>Y2</th>\n",
              "      <td>78096.0</td>\n",
              "      <td>83.771315</td>\n",
              "      <td>41.023543</td>\n",
              "      <td>-100.789312</td>\n",
              "      <td>58.052385</td>\n",
              "      <td>86.458324</td>\n",
              "      <td>106.660827</td>\n",
              "      <td>168.186466</td>\n",
              "    </tr>\n",
              "    <tr>\n",
              "      <th>Z2</th>\n",
              "      <td>78096.0</td>\n",
              "      <td>-30.560515</td>\n",
              "      <td>35.120329</td>\n",
              "      <td>-129.595296</td>\n",
              "      <td>-58.654059</td>\n",
              "      <td>-32.352414</td>\n",
              "      <td>-0.944786</td>\n",
              "      <td>104.590879</td>\n",
              "    </tr>\n",
              "  </tbody>\n",
              "</table>\n",
              "</div>\n",
              "      <button class=\"colab-df-convert\" onclick=\"convertToInteractive('df-a048defd-2475-4aca-b950-ae55bc13ce3e')\"\n",
              "              title=\"Convert this dataframe to an interactive table.\"\n",
              "              style=\"display:none;\">\n",
              "        \n",
              "  <svg xmlns=\"http://www.w3.org/2000/svg\" height=\"24px\"viewBox=\"0 0 24 24\"\n",
              "       width=\"24px\">\n",
              "    <path d=\"M0 0h24v24H0V0z\" fill=\"none\"/>\n",
              "    <path d=\"M18.56 5.44l.94 2.06.94-2.06 2.06-.94-2.06-.94-.94-2.06-.94 2.06-2.06.94zm-11 1L8.5 8.5l.94-2.06 2.06-.94-2.06-.94L8.5 2.5l-.94 2.06-2.06.94zm10 10l.94 2.06.94-2.06 2.06-.94-2.06-.94-.94-2.06-.94 2.06-2.06.94z\"/><path d=\"M17.41 7.96l-1.37-1.37c-.4-.4-.92-.59-1.43-.59-.52 0-1.04.2-1.43.59L10.3 9.45l-7.72 7.72c-.78.78-.78 2.05 0 2.83L4 21.41c.39.39.9.59 1.41.59.51 0 1.02-.2 1.41-.59l7.78-7.78 2.81-2.81c.8-.78.8-2.07 0-2.86zM5.41 20L4 18.59l7.72-7.72 1.47 1.35L5.41 20z\"/>\n",
              "  </svg>\n",
              "      </button>\n",
              "      \n",
              "  <style>\n",
              "    .colab-df-container {\n",
              "      display:flex;\n",
              "      flex-wrap:wrap;\n",
              "      gap: 12px;\n",
              "    }\n",
              "\n",
              "    .colab-df-convert {\n",
              "      background-color: #E8F0FE;\n",
              "      border: none;\n",
              "      border-radius: 50%;\n",
              "      cursor: pointer;\n",
              "      display: none;\n",
              "      fill: #1967D2;\n",
              "      height: 32px;\n",
              "      padding: 0 0 0 0;\n",
              "      width: 32px;\n",
              "    }\n",
              "\n",
              "    .colab-df-convert:hover {\n",
              "      background-color: #E2EBFA;\n",
              "      box-shadow: 0px 1px 2px rgba(60, 64, 67, 0.3), 0px 1px 3px 1px rgba(60, 64, 67, 0.15);\n",
              "      fill: #174EA6;\n",
              "    }\n",
              "\n",
              "    [theme=dark] .colab-df-convert {\n",
              "      background-color: #3B4455;\n",
              "      fill: #D2E3FC;\n",
              "    }\n",
              "\n",
              "    [theme=dark] .colab-df-convert:hover {\n",
              "      background-color: #434B5C;\n",
              "      box-shadow: 0px 1px 3px 1px rgba(0, 0, 0, 0.15);\n",
              "      filter: drop-shadow(0px 1px 2px rgba(0, 0, 0, 0.3));\n",
              "      fill: #FFFFFF;\n",
              "    }\n",
              "  </style>\n",
              "\n",
              "      <script>\n",
              "        const buttonEl =\n",
              "          document.querySelector('#df-a048defd-2475-4aca-b950-ae55bc13ce3e button.colab-df-convert');\n",
              "        buttonEl.style.display =\n",
              "          google.colab.kernel.accessAllowed ? 'block' : 'none';\n",
              "\n",
              "        async function convertToInteractive(key) {\n",
              "          const element = document.querySelector('#df-a048defd-2475-4aca-b950-ae55bc13ce3e');\n",
              "          const dataTable =\n",
              "            await google.colab.kernel.invokeFunction('convertToInteractive',\n",
              "                                                     [key], {});\n",
              "          if (!dataTable) return;\n",
              "\n",
              "          const docLinkHtml = 'Like what you see? Visit the ' +\n",
              "            '<a target=\"_blank\" href=https://colab.research.google.com/notebooks/data_table.ipynb>data table notebook</a>'\n",
              "            + ' to learn more about interactive tables.';\n",
              "          element.innerHTML = '';\n",
              "          dataTable['output_type'] = 'display_data';\n",
              "          await google.colab.output.renderOutput(dataTable, element);\n",
              "          const docLink = document.createElement('div');\n",
              "          docLink.innerHTML = docLinkHtml;\n",
              "          element.appendChild(docLink);\n",
              "        }\n",
              "      </script>\n",
              "    </div>\n",
              "  </div>\n",
              "  "
            ]
          },
          "metadata": {},
          "execution_count": 6
        }
      ],
      "source": [
        "df.describe().transpose()"
      ]
    },
    {
      "cell_type": "code",
      "execution_count": 7,
      "id": "641fb18a",
      "metadata": {
        "colab": {
          "base_uri": "https://localhost:8080/"
        },
        "id": "641fb18a",
        "outputId": "1b8cb194-cae0-4297-a409-8d961182ff6c"
      },
      "outputs": [
        {
          "output_type": "execute_result",
          "data": {
            "text/plain": [
              "array([0, 1, 2, 3, 4, 5])"
            ]
          },
          "metadata": {},
          "execution_count": 7
        }
      ],
      "source": [
        "df.Class.unique()"
      ]
    },
    {
      "cell_type": "code",
      "execution_count": 8,
      "id": "eeba6759",
      "metadata": {
        "colab": {
          "base_uri": "https://localhost:8080/"
        },
        "id": "eeba6759",
        "outputId": "3b45ad07-ea50-4bf3-e9f9-dd82674e1021"
      },
      "outputs": [
        {
          "output_type": "execute_result",
          "data": {
            "text/plain": [
              "1"
            ]
          },
          "metadata": {},
          "execution_count": 8
        }
      ],
      "source": [
        "df.Class[df.Class==0].count()"
      ]
    },
    {
      "cell_type": "code",
      "execution_count": 9,
      "id": "57af585f",
      "metadata": {
        "id": "57af585f"
      },
      "outputs": [],
      "source": [
        "df.drop(df[df.Class==0].index , inplace=True)"
      ]
    },
    {
      "cell_type": "code",
      "execution_count": 10,
      "id": "b291b6a8",
      "metadata": {
        "colab": {
          "base_uri": "https://localhost:8080/",
          "height": 279
        },
        "id": "b291b6a8",
        "outputId": "8a37e94f-1a99-4c25-f569-c3f36e75b100"
      },
      "outputs": [
        {
          "output_type": "display_data",
          "data": {
            "text/plain": [
              "<Figure size 432x288 with 1 Axes>"
            ],
            "image/png": "[encoded data removed]"
          },
          "metadata": {
            "needs_background": "light"
          }
        }
      ],
      "source": [
        "sns.histplot(df.Class)\n",
        "plt.xticks(range(1,6))\n",
        "plt.show()"
      ]
    },
    {
      "cell_type": "code",
      "execution_count": 11,
      "id": "61f1de78",
      "metadata": {
        "colab": {
          "base_uri": "https://localhost:8080/"
        },
        "id": "61f1de78",
        "outputId": "ea60aab1-8728-433e-df90-ac7df57eb3b0"
      },
      "outputs": [
        {
          "output_type": "execute_result",
          "data": {
            "text/plain": [
              "array([0, 1, 2, 3, 4])"
            ]
          },
          "metadata": {},
          "execution_count": 11
        }
      ],
      "source": [
        "def change(data):\n",
        "    return data-1\n",
        "df.Class=df.Class.apply(change)\n",
        "df.Class.unique()"
      ]
    },
    {
      "cell_type": "code",
      "execution_count": 12,
      "id": "c44ace41",
      "metadata": {
        "id": "c44ace41"
      },
      "outputs": [],
      "source": [
        "for i in df.columns:\n",
        "    df[i].replace({\"?\":float(0)}, inplace=True)"
      ]
    },
    {
      "cell_type": "code",
      "execution_count": 13,
      "id": "5a375806",
      "metadata": {
        "id": "5a375806"
      },
      "outputs": [],
      "source": [
        "data=df[['Class', 'User', 'X0', 'Y0', 'Z0', 'X1', 'Y1', 'Z1', 'X2', 'Y2', 'Z2']]"
      ]
    },
    {
      "cell_type": "code",
      "execution_count": 14,
      "id": "ab21317a",
      "metadata": {
        "colab": {
          "base_uri": "https://localhost:8080/",
          "height": 112
        },
        "id": "ab21317a",
        "outputId": "642636e9-cc3a-46fa-d205-01bc1b4c7624"
      },
      "outputs": [
        {
          "output_type": "execute_result",
          "data": {
            "text/plain": [
              "   Class  User         X0         Y0         Z0         X1        Y1  \\\n",
              "1      0     0  54.263880  71.466776 -64.807709  76.895635  42.46250   \n",
              "2      0     0  56.527558  72.266609 -61.935252  39.135978  82.53853   \n",
              "\n",
              "          Z1         X2         Y2         Z2  \n",
              "1 -72.780545  36.621229  81.680557 -52.919272  \n",
              "2 -49.596509  79.223743  43.254091 -69.982489  "
            ],
            "text/html": [
              "\n",
              "  <div id=\"df-0078a175-7e5e-46f8-a6a2-feb3fe73c952\">\n",
              "    <div class=\"colab-df-container\">\n",
              "      <div>\n",
              "<style scoped>\n",
              "    .dataframe tbody tr th:only-of-type {\n",
              "        vertical-align: middle;\n",
              "    }\n",
              "\n",
              "    .dataframe tbody tr th {\n",
              "        vertical-align: top;\n",
              "    }\n",
              "\n",
              "    .dataframe thead th {\n",
              "        text-align: right;\n",
              "    }\n",
              "</style>\n",
              "<table border=\"1\" class=\"dataframe\">\n",
              "  <thead>\n",
              "    <tr style=\"text-align: right;\">\n",
              "      <th></th>\n",
              "      <th>Class</th>\n",
              "      <th>User</th>\n",
              "      <th>X0</th>\n",
              "      <th>Y0</th>\n",
              "      <th>Z0</th>\n",
              "      <th>X1</th>\n",
              "      <th>Y1</th>\n",
              "      <th>Z1</th>\n",
              "      <th>X2</th>\n",
              "      <th>Y2</th>\n",
              "      <th>Z2</th>\n",
              "    </tr>\n",
              "  </thead>\n",
              "  <tbody>\n",
              "    <tr>\n",
              "      <th>1</th>\n",
              "      <td>0</td>\n",
              "      <td>0</td>\n",
              "      <td>54.263880</td>\n",
              "      <td>71.466776</td>\n",
              "      <td>-64.807709</td>\n",
              "      <td>76.895635</td>\n",
              "      <td>42.46250</td>\n",
              "      <td>-72.780545</td>\n",
              "      <td>36.621229</td>\n",
              "      <td>81.680557</td>\n",
              "      <td>-52.919272</td>\n",
              "    </tr>\n",
              "    <tr>\n",
              "      <th>2</th>\n",
              "      <td>0</td>\n",
              "      <td>0</td>\n",
              "      <td>56.527558</td>\n",
              "      <td>72.266609</td>\n",
              "      <td>-61.935252</td>\n",
              "      <td>39.135978</td>\n",
              "      <td>82.53853</td>\n",
              "      <td>-49.596509</td>\n",
              "      <td>79.223743</td>\n",
              "      <td>43.254091</td>\n",
              "      <td>-69.982489</td>\n",
              "    </tr>\n",
              "  </tbody>\n",
              "</table>\n",
              "</div>\n",
              "      <button class=\"colab-df-convert\" onclick=\"convertToInteractive('df-0078a175-7e5e-46f8-a6a2-feb3fe73c952')\"\n",
              "              title=\"Convert this dataframe to an interactive table.\"\n",
              "              style=\"display:none;\">\n",
              "        \n",
              "  <svg xmlns=\"http://www.w3.org/2000/svg\" height=\"24px\"viewBox=\"0 0 24 24\"\n",
              "       width=\"24px\">\n",
              "    <path d=\"M0 0h24v24H0V0z\" fill=\"none\"/>\n",
              "    <path d=\"M18.56 5.44l.94 2.06.94-2.06 2.06-.94-2.06-.94-.94-2.06-.94 2.06-2.06.94zm-11 1L8.5 8.5l.94-2.06 2.06-.94-2.06-.94L8.5 2.5l-.94 2.06-2.06.94zm10 10l.94 2.06.94-2.06 2.06-.94-2.06-.94-.94-2.06-.94 2.06-2.06.94z\"/><path d=\"M17.41 7.96l-1.37-1.37c-.4-.4-.92-.59-1.43-.59-.52 0-1.04.2-1.43.59L10.3 9.45l-7.72 7.72c-.78.78-.78 2.05 0 2.83L4 21.41c.39.39.9.59 1.41.59.51 0 1.02-.2 1.41-.59l7.78-7.78 2.81-2.81c.8-.78.8-2.07 0-2.86zM5.41 20L4 18.59l7.72-7.72 1.47 1.35L5.41 20z\"/>\n",
              "  </svg>\n",
              "      </button>\n",
              "      \n",
              "  <style>\n",
              "    .colab-df-container {\n",
              "      display:flex;\n",
              "      flex-wrap:wrap;\n",
              "      gap: 12px;\n",
              "    }\n",
              "\n",
              "    .colab-df-convert {\n",
              "      background-color: #E8F0FE;\n",
              "      border: none;\n",
              "      border-radius: 50%;\n",
              "      cursor: pointer;\n",
              "      display: none;\n",
              "      fill: #1967D2;\n",
              "      height: 32px;\n",
              "      padding: 0 0 0 0;\n",
              "      width: 32px;\n",
              "    }\n",
              "\n",
              "    .colab-df-convert:hover {\n",
              "      background-color: #E2EBFA;\n",
              "      box-shadow: 0px 1px 2px rgba(60, 64, 67, 0.3), 0px 1px 3px 1px rgba(60, 64, 67, 0.15);\n",
              "      fill: #174EA6;\n",
              "    }\n",
              "\n",
              "    [theme=dark] .colab-df-convert {\n",
              "      background-color: #3B4455;\n",
              "      fill: #D2E3FC;\n",
              "    }\n",
              "\n",
              "    [theme=dark] .colab-df-convert:hover {\n",
              "      background-color: #434B5C;\n",
              "      box-shadow: 0px 1px 3px 1px rgba(0, 0, 0, 0.15);\n",
              "      filter: drop-shadow(0px 1px 2px rgba(0, 0, 0, 0.3));\n",
              "      fill: #FFFFFF;\n",
              "    }\n",
              "  </style>\n",
              "\n",
              "      <script>\n",
              "        const buttonEl =\n",
              "          document.querySelector('#df-0078a175-7e5e-46f8-a6a2-feb3fe73c952 button.colab-df-convert');\n",
              "        buttonEl.style.display =\n",
              "          google.colab.kernel.accessAllowed ? 'block' : 'none';\n",
              "\n",
              "        async function convertToInteractive(key) {\n",
              "          const element = document.querySelector('#df-0078a175-7e5e-46f8-a6a2-feb3fe73c952');\n",
              "          const dataTable =\n",
              "            await google.colab.kernel.invokeFunction('convertToInteractive',\n",
              "                                                     [key], {});\n",
              "          if (!dataTable) return;\n",
              "\n",
              "          const docLinkHtml = 'Like what you see? Visit the ' +\n",
              "            '<a target=\"_blank\" href=https://colab.research.google.com/notebooks/data_table.ipynb>data table notebook</a>'\n",
              "            + ' to learn more about interactive tables.';\n",
              "          element.innerHTML = '';\n",
              "          dataTable['output_type'] = 'display_data';\n",
              "          await google.colab.output.renderOutput(dataTable, element);\n",
              "          const docLink = document.createElement('div');\n",
              "          docLink.innerHTML = docLinkHtml;\n",
              "          element.appendChild(docLink);\n",
              "        }\n",
              "      </script>\n",
              "    </div>\n",
              "  </div>\n",
              "  "
            ]
          },
          "metadata": {},
          "execution_count": 14
        }
      ],
      "source": [
        "data.iloc[0:2]"
      ]
    },
    {
      "cell_type": "code",
      "execution_count": 15,
      "id": "b117996b",
      "metadata": {
        "id": "b117996b"
      },
      "outputs": [],
      "source": [
        "def pltHand(handPoints):\n",
        "    ls=[]\n",
        "    crntClass = handPoints['Class'].values[0]\n",
        "    title=\"NA\"\n",
        "    for i in range(int((handPoints.shape[1]-2)/3)):\n",
        "        pntx = f'X{i}'\n",
        "        pnty = f'Y{i}'\n",
        "        pntz = f'Z{i}'\n",
        "        if(handPoints[pntx].values[0] != 0 and handPoints[pnty].values[0] != 0 and handPoints[pntz].values[0] != 0):\n",
        "            xlocation = handPoints[pntx]\n",
        "            ylocation = handPoints[pnty]\n",
        "            zlocation = handPoints[pntz]\n",
        "            ls.append([xlocation, ylocation, zlocation])\n",
        "        else:\n",
        "            continue\n",
        "    \n",
        "    if (crntClass == 1):\n",
        "        title = 'Fist(with thumb out)'\n",
        "    elif(crntClass == 2):\n",
        "        title = 'Stop(hand flat)'\n",
        "    elif (crntClass == 3):\n",
        "        title = 'Point1(point with pointer finger)'\n",
        "    elif (crntClass == 4):\n",
        "        title = 'Point2(point with pointer and middle fingers)'\n",
        "    elif (crntClass == 5):\n",
        "        title = 'Grab(fingers curled as if to grab).'\n",
        "    return title, ls\n",
        "    \n",
        "w = np.random.randint(df.shape[0], size=1)[0]\n",
        "title, ls=pltHand(df[w:w+1] )"
      ]
    },
    {
      "cell_type": "code",
      "execution_count": 16,
      "id": "bb2336d6",
      "metadata": {
        "colab": {
          "base_uri": "https://localhost:8080/",
          "height": 411
        },
        "id": "bb2336d6",
        "outputId": "86b36fbd-0323-46dc-d0cc-bceeee3a3d50"
      },
      "outputs": [
        {
          "output_type": "display_data",
          "data": {
            "text/plain": [
              "<Figure size 720x504 with 1 Axes>"
            ],
            "image/png": "[encoded data removed]"
          },
          "metadata": {
            "needs_background": "light"
          }
        }
      ],
      "source": [
        "def draw_3d(ls,title):\n",
        "    fig = plt.figure(figsize = (10, 7))\n",
        "    ax = plt.axes(projection =\"3d\")\n",
        "    for i in ls:\n",
        "        x=(float(i[0].astype(float)))\n",
        "        y=(float(i[1].astype(float)))\n",
        "        z=(float(i[2].astype(float)))\n",
        "        ax.scatter(x, y, z, marker=\"o\")\n",
        "    plt.title(title)\n",
        "    plt.show()\n",
        "draw_3d(ls,title)"
      ]
    },
    {
      "cell_type": "code",
      "execution_count": 17,
      "id": "7737aaf0",
      "metadata": {
        "scrolled": false,
        "colab": {
          "base_uri": "https://localhost:8080/",
          "height": 542
        },
        "id": "7737aaf0",
        "outputId": "7cf427de-a7a6-4ec1-fa2a-88db3d608b2f"
      },
      "outputs": [
        {
          "output_type": "display_data",
          "data": {
            "text/html": [
              "<html>\n",
              "<head><meta charset=\"utf-8\" /></head>\n",
              "<body>\n",
              "    <div>            <script src=\"https://cdnjs.cloudflare.com/ajax/libs/mathjax/2.7.5/MathJax.js?config=TeX-AMS-MML_SVG\"></script><script type=\"text/javascript\">if (window.MathJax) {MathJax.Hub.Config({SVG: {font: \"STIX-Web\"}});}</script>                <script type=\"text/javascript\">window.PlotlyConfig = {MathJaxConfig: 'local'};</script>\n",
              "        <script src=\"https://cdn.plot.ly/plotly-2.8.3.min.js\"></script>                <div id=\"dc068dc9-5cd0-4015-91d9-abcf95b8dc8f\" class=\"plotly-graph-div\" style=\"height:525px; width:100%;\"></div>            <script type=\"text/javascript\">                                    window.PLOTLYENV=window.PLOTLYENV || {};                                    if (document.getElementById(\"dc068dc9-5cd0-4015-91d9-abcf95b8dc8f\")) {                    Plotly.newPlot(                        \"dc068dc9-5cd0-4015-91d9-abcf95b8dc8f\",                        [{\"marker\":{\"color\":[-70.2018712583649,-71.0706153604771,35.4610547132315,30.4135581602276,18.7383569859745,25.1673944347945,37.8202585220618,11.7731314696682,-70.6857580386477,-5.46346293280662,4.21383070955585],\"colorscale\":[[0.0,\"#440154\"],[0.1111111111111111,\"#482878\"],[0.2222222222222222,\"#3e4989\"],[0.3333333333333333,\"#31688e\"],[0.4444444444444444,\"#26828e\"],[0.5555555555555556,\"#1f9e89\"],[0.6666666666666666,\"#35b779\"],[0.7777777777777778,\"#6ece58\"],[0.8888888888888888,\"#b5de2b\"],[1.0,\"#fde725\"]],\"opacity\":0.8,\"size\":4},\"mode\":\"markers\",\"x\":[59.8822790595628,79.9082734858956,48.6411649193882,11.409255050346,82.20823957396,35.3174324091081,20.005801548099,61.9699761244426,96.9709310324357,78.6507837836628,92.3268783620973],\"y\":[29.1539143758777,56.1239451204478,153.700459851385,94.5751388859544,151.644073180915,99.1567823542631,132.100538605302,98.5947263371829,75.2265765413028,94.2070264711702,137.374045059618],\"z\":[-70.2018712583649,-71.0706153604771,35.4610547132315,30.4135581602276,18.7383569859745,25.1673944347945,37.8202585220618,11.7731314696682,-70.6857580386477,-5.46346293280662,4.21383070955585],\"type\":\"scatter3d\"}],                        {\"template\":{\"data\":{\"bar\":[{\"error_x\":{\"color\":\"#2a3f5f\"},\"error_y\":{\"color\":\"#2a3f5f\"},\"marker\":{\"line\":{\"color\":\"#E5ECF6\",\"width\":0.5},\"pattern\":{\"fillmode\":\"overlay\",\"size\":10,\"solidity\":0.2}},\"type\":\"bar\"}],\"barpolar\":[{\"marker\":{\"line\":{\"color\":\"#E5ECF6\",\"width\":0.5},\"pattern\":{\"fillmode\":\"overlay\",\"size\":10,\"solidity\":0.2}},\"type\":\"barpolar\"}],\"carpet\":[{\"aaxis\":{\"endlinecolor\":\"#2a3f5f\",\"gridcolor\":\"white\",\"linecolor\":\"white\",\"minorgridcolor\":\"white\",\"startlinecolor\":\"#2a3f5f\"},\"baxis\":{\"endlinecolor\":\"#2a3f5f\",\"gridcolor\":\"white\",\"linecolor\":\"white\",\"minorgridcolor\":\"white\",\"startlinecolor\":\"#2a3f5f\"},\"type\":\"carpet\"}],\"choropleth\":[{\"colorbar\":{\"outlinewidth\":0,\"ticks\":\"\"},\"type\":\"choropleth\"}],\"contour\":[{\"colorbar\":{\"outlinewidth\":0,\"ticks\":\"\"},\"colorscale\":[[0.0,\"#0d0887\"],[0.1111111111111111,\"#46039f\"],[0.2222222222222222,\"#7201a8\"],[0.3333333333333333,\"#9c179e\"],[0.4444444444444444,\"#bd3786\"],[0.5555555555555556,\"#d8576b\"],[0.6666666666666666,\"#ed7953\"],[0.7777777777777778,\"#fb9f3a\"],[0.8888888888888888,\"#fdca26\"],[1.0,\"#f0f921\"]],\"type\":\"contour\"}],\"contourcarpet\":[{\"colorbar\":{\"outlinewidth\":0,\"ticks\":\"\"},\"type\":\"contourcarpet\"}],\"heatmap\":[{\"colorbar\":{\"outlinewidth\":0,\"ticks\":\"\"},\"colorscale\":[[0.0,\"#0d0887\"],[0.1111111111111111,\"#46039f\"],[0.2222222222222222,\"#7201a8\"],[0.3333333333333333,\"#9c179e\"],[0.4444444444444444,\"#bd3786\"],[0.5555555555555556,\"#d8576b\"],[0.6666666666666666,\"#ed7953\"],[0.7777777777777778,\"#fb9f3a\"],[0.8888888888888888,\"#fdca26\"],[1.0,\"#f0f921\"]],\"type\":\"heatmap\"}],\"heatmapgl\":[{\"colorbar\":{\"outlinewidth\":0,\"ticks\":\"\"},\"colorscale\":[[0.0,\"#0d0887\"],[0.1111111111111111,\"#46039f\"],[0.2222222222222222,\"#7201a8\"],[0.3333333333333333,\"#9c179e\"],[0.4444444444444444,\"#bd3786\"],[0.5555555555555556,\"#d8576b\"],[0.6666666666666666,\"#ed7953\"],[0.7777777777777778,\"#fb9f3a\"],[0.8888888888888888,\"#fdca26\"],[1.0,\"#f0f921\"]],\"type\":\"heatmapgl\"}],\"histogram\":[{\"marker\":{\"pattern\":{\"fillmode\":\"overlay\",\"size\":10,\"solidity\":0.2}},\"type\":\"histogram\"}],\"histogram2d\":[{\"colorbar\":{\"outlinewidth\":0,\"ticks\":\"\"},\"colorscale\":[[0.0,\"#0d0887\"],[0.1111111111111111,\"#46039f\"],[0.2222222222222222,\"#7201a8\"],[0.3333333333333333,\"#9c179e\"],[0.4444444444444444,\"#bd3786\"],[0.5555555555555556,\"#d8576b\"],[0.6666666666666666,\"#ed7953\"],[0.7777777777777778,\"#fb9f3a\"],[0.8888888888888888,\"#fdca26\"],[1.0,\"#f0f921\"]],\"type\":\"histogram2d\"}],\"histogram2dcontour\":[{\"colorbar\":{\"outlinewidth\":0,\"ticks\":\"\"},\"colorscale\":[[0.0,\"#0d0887\"],[0.1111111111111111,\"#46039f\"],[0.2222222222222222,\"#7201a8\"],[0.3333333333333333,\"#9c179e\"],[0.4444444444444444,\"#bd3786\"],[0.5555555555555556,\"#d8576b\"],[0.6666666666666666,\"#ed7953\"],[0.7777777777777778,\"#fb9f3a\"],[0.8888888888888888,\"#fdca26\"],[1.0,\"#f0f921\"]],\"type\":\"histogram2dcontour\"}],\"mesh3d\":[{\"colorbar\":{\"outlinewidth\":0,\"ticks\":\"\"},\"type\":\"mesh3d\"}],\"parcoords\":[{\"line\":{\"colorbar\":{\"outlinewidth\":0,\"ticks\":\"\"}},\"type\":\"parcoords\"}],\"pie\":[{\"automargin\":true,\"type\":\"pie\"}],\"scatter\":[{\"marker\":{\"colorbar\":{\"outlinewidth\":0,\"ticks\":\"\"}},\"type\":\"scatter\"}],\"scatter3d\":[{\"line\":{\"colorbar\":{\"outlinewidth\":0,\"ticks\":\"\"}},\"marker\":{\"colorbar\":{\"outlinewidth\":0,\"ticks\":\"\"}},\"type\":\"scatter3d\"}],\"scattercarpet\":[{\"marker\":{\"colorbar\":{\"outlinewidth\":0,\"ticks\":\"\"}},\"type\":\"scattercarpet\"}],\"scattergeo\":[{\"marker\":{\"colorbar\":{\"outlinewidth\":0,\"ticks\":\"\"}},\"type\":\"scattergeo\"}],\"scattergl\":[{\"marker\":{\"colorbar\":{\"outlinewidth\":0,\"ticks\":\"\"}},\"type\":\"scattergl\"}],\"scattermapbox\":[{\"marker\":{\"colorbar\":{\"outlinewidth\":0,\"ticks\":\"\"}},\"type\":\"scattermapbox\"}],\"scatterpolar\":[{\"marker\":{\"colorbar\":{\"outlinewidth\":0,\"ticks\":\"\"}},\"type\":\"scatterpolar\"}],\"scatterpolargl\":[{\"marker\":{\"colorbar\":{\"outlinewidth\":0,\"ticks\":\"\"}},\"type\":\"scatterpolargl\"}],\"scatterternary\":[{\"marker\":{\"colorbar\":{\"outlinewidth\":0,\"ticks\":\"\"}},\"type\":\"scatterternary\"}],\"surface\":[{\"colorbar\":{\"outlinewidth\":0,\"ticks\":\"\"},\"colorscale\":[[0.0,\"#0d0887\"],[0.1111111111111111,\"#46039f\"],[0.2222222222222222,\"#7201a8\"],[0.3333333333333333,\"#9c179e\"],[0.4444444444444444,\"#bd3786\"],[0.5555555555555556,\"#d8576b\"],[0.6666666666666666,\"#ed7953\"],[0.7777777777777778,\"#fb9f3a\"],[0.8888888888888888,\"#fdca26\"],[1.0,\"#f0f921\"]],\"type\":\"surface\"}],\"table\":[{\"cells\":{\"fill\":{\"color\":\"#EBF0F8\"},\"line\":{\"color\":\"white\"}},\"header\":{\"fill\":{\"color\":\"#C8D4E3\"},\"line\":{\"color\":\"white\"}},\"type\":\"table\"}]},\"layout\":{\"annotationdefaults\":{\"arrowcolor\":\"#2a3f5f\",\"arrowhead\":0,\"arrowwidth\":1},\"autotypenumbers\":\"strict\",\"coloraxis\":{\"colorbar\":{\"outlinewidth\":0,\"ticks\":\"\"}},\"colorscale\":{\"diverging\":[[0,\"#8e0152\"],[0.1,\"#c51b7d\"],[0.2,\"#de77ae\"],[0.3,\"#f1b6da\"],[0.4,\"#fde0ef\"],[0.5,\"#f7f7f7\"],[0.6,\"#e6f5d0\"],[0.7,\"#b8e186\"],[0.8,\"#7fbc41\"],[0.9,\"#4d9221\"],[1,\"#276419\"]],\"sequential\":[[0.0,\"#0d0887\"],[0.1111111111111111,\"#46039f\"],[0.2222222222222222,\"#7201a8\"],[0.3333333333333333,\"#9c179e\"],[0.4444444444444444,\"#bd3786\"],[0.5555555555555556,\"#d8576b\"],[0.6666666666666666,\"#ed7953\"],[0.7777777777777778,\"#fb9f3a\"],[0.8888888888888888,\"#fdca26\"],[1.0,\"#f0f921\"]],\"sequentialminus\":[[0.0,\"#0d0887\"],[0.1111111111111111,\"#46039f\"],[0.2222222222222222,\"#7201a8\"],[0.3333333333333333,\"#9c179e\"],[0.4444444444444444,\"#bd3786\"],[0.5555555555555556,\"#d8576b\"],[0.6666666666666666,\"#ed7953\"],[0.7777777777777778,\"#fb9f3a\"],[0.8888888888888888,\"#fdca26\"],[1.0,\"#f0f921\"]]},\"colorway\":[\"#636efa\",\"#EF553B\",\"#00cc96\",\"#ab63fa\",\"#FFA15A\",\"#19d3f3\",\"#FF6692\",\"#B6E880\",\"#FF97FF\",\"#FECB52\"],\"font\":{\"color\":\"#2a3f5f\"},\"geo\":{\"bgcolor\":\"white\",\"lakecolor\":\"white\",\"landcolor\":\"#E5ECF6\",\"showlakes\":true,\"showland\":true,\"subunitcolor\":\"white\"},\"hoverlabel\":{\"align\":\"left\"},\"hovermode\":\"closest\",\"mapbox\":{\"style\":\"light\"},\"paper_bgcolor\":\"white\",\"plot_bgcolor\":\"#E5ECF6\",\"polar\":{\"angularaxis\":{\"gridcolor\":\"white\",\"linecolor\":\"white\",\"ticks\":\"\"},\"bgcolor\":\"#E5ECF6\",\"radialaxis\":{\"gridcolor\":\"white\",\"linecolor\":\"white\",\"ticks\":\"\"}},\"scene\":{\"xaxis\":{\"backgroundcolor\":\"#E5ECF6\",\"gridcolor\":\"white\",\"gridwidth\":2,\"linecolor\":\"white\",\"showbackground\":true,\"ticks\":\"\",\"zerolinecolor\":\"white\"},\"yaxis\":{\"backgroundcolor\":\"#E5ECF6\",\"gridcolor\":\"white\",\"gridwidth\":2,\"linecolor\":\"white\",\"showbackground\":true,\"ticks\":\"\",\"zerolinecolor\":\"white\"},\"zaxis\":{\"backgroundcolor\":\"#E5ECF6\",\"gridcolor\":\"white\",\"gridwidth\":2,\"linecolor\":\"white\",\"showbackground\":true,\"ticks\":\"\",\"zerolinecolor\":\"white\"}},\"shapedefaults\":{\"line\":{\"color\":\"#2a3f5f\"}},\"ternary\":{\"aaxis\":{\"gridcolor\":\"white\",\"linecolor\":\"white\",\"ticks\":\"\"},\"baxis\":{\"gridcolor\":\"white\",\"linecolor\":\"white\",\"ticks\":\"\"},\"bgcolor\":\"#E5ECF6\",\"caxis\":{\"gridcolor\":\"white\",\"linecolor\":\"white\",\"ticks\":\"\"}},\"title\":{\"x\":0.05},\"xaxis\":{\"automargin\":true,\"gridcolor\":\"white\",\"linecolor\":\"white\",\"ticks\":\"\",\"title\":{\"standoff\":15},\"zerolinecolor\":\"white\",\"zerolinewidth\":2},\"yaxis\":{\"automargin\":true,\"gridcolor\":\"white\",\"linecolor\":\"white\",\"ticks\":\"\",\"title\":{\"standoff\":15},\"zerolinecolor\":\"white\",\"zerolinewidth\":2}}},\"title\":{\"text\":\"Fist(with thumb out)\"}},                        {\"responsive\": true}                    ).then(function(){\n",
              "                            \n",
              "var gd = document.getElementById('dc068dc9-5cd0-4015-91d9-abcf95b8dc8f');\n",
              "var x = new MutationObserver(function (mutations, observer) {{\n",
              "        var display = window.getComputedStyle(gd).display;\n",
              "        if (!display || display === 'none') {{\n",
              "            console.log([gd, 'removed!']);\n",
              "            Plotly.purge(gd);\n",
              "            observer.disconnect();\n",
              "        }}\n",
              "}});\n",
              "\n",
              "// Listen for the removal of the full notebook cells\n",
              "var notebookContainer = gd.closest('#notebook-container');\n",
              "if (notebookContainer) {{\n",
              "    x.observe(notebookContainer, {childList: true});\n",
              "}}\n",
              "\n",
              "// Listen for the clearing of the current output cell\n",
              "var outputEl = gd.closest('.output');\n",
              "if (outputEl) {{\n",
              "    x.observe(outputEl, {childList: true});\n",
              "}}\n",
              "\n",
              "                        })                };                            </script>        </div>\n",
              "</body>\n",
              "</html>"
            ]
          },
          "metadata": {}
        }
      ],
      "source": [
        "def plot_3d(ls,title):\n",
        "    x,y,z=[],[],[]\n",
        "    for i in ls:\n",
        "\n",
        "        x.append(float(i[0].astype(float)))\n",
        "        y.append(float(i[1].astype(float)))\n",
        "        z.append(float(i[2].astype(float)))\n",
        "\n",
        "    fig = go.Figure(data=[go.Scatter3d(x=x, y=y, z=z,\n",
        "                                       mode='markers',    \n",
        "                                       marker=dict(size=4,color=z, colorscale='Viridis',opacity=0.8))])\n",
        "    fig.update_layout(title_text=title)\n",
        "    fig.show()\n",
        "plot_3d(ls,title)"
      ]
    },
    {
      "cell_type": "markdown",
      "id": "da9693df",
      "metadata": {
        "id": "da9693df"
      },
      "source": [
        "## Load Data in Tensor from DataFrame"
      ]
    },
    {
      "cell_type": "code",
      "execution_count": 18,
      "id": "3b9c484d",
      "metadata": {
        "colab": {
          "base_uri": "https://localhost:8080/"
        },
        "id": "3b9c484d",
        "outputId": "e65f4a3f-898a-4fdd-e26a-79af98348a0e"
      },
      "outputs": [
        {
          "output_type": "execute_result",
          "data": {
            "text/plain": [
              "(58571, 19524, 58571, 19524, 10, 5)"
            ]
          },
          "metadata": {},
          "execution_count": 18
        }
      ],
      "source": [
        "x_tr, x_te, y_tr, y_te= train_test_split(data.drop(\"Class\", axis=1), data.Class, test_size=0.25,stratify=data.Class, random_state=15)\n",
        "len(x_tr), len(x_te), len(y_tr), len(y_te), len(x_tr.columns), len(y_tr.unique())"
      ]
    },
    {
      "cell_type": "code",
      "execution_count": 19,
      "id": "e1e45faf",
      "metadata": {
        "colab": {
          "base_uri": "https://localhost:8080/"
        },
        "id": "e1e45faf",
        "outputId": "2b36f2e3-8651-4204-9df7-d6bce549d0a7"
      },
      "outputs": [
        {
          "output_type": "execute_result",
          "data": {
            "text/plain": [
              "(1831, 611)"
            ]
          },
          "metadata": {},
          "execution_count": 19
        }
      ],
      "source": [
        "train_target = torch.tensor(y_tr.values)\n",
        "train = torch.tensor(x_tr.values)\n",
        "train_tensor = data_utils.TensorDataset(train, train_target)\n",
        "train_loader = data_utils.DataLoader(dataset = train_tensor, batch_size = 32, shuffle = True)\n",
        "\n",
        "test_target = torch.tensor(y_te.values)\n",
        "test = torch.tensor(x_te.values)\n",
        "test_tensor = data_utils.TensorDataset(test, test_target)\n",
        "test_loader = data_utils.DataLoader(dataset = test_tensor, batch_size = 32, shuffle = True)\n",
        "len(train_loader), len(test_loader)"
      ]
    },
    {
      "cell_type": "code",
      "execution_count": 20,
      "id": "d3e20dbf",
      "metadata": {
        "id": "d3e20dbf"
      },
      "outputs": [],
      "source": [
        "x_tr, y_tr, x_te, y_te=x_tr.to_numpy(),y_tr.to_numpy(), x_te.to_numpy(), y_te.to_numpy()\n",
        "\n",
        "x_tr=torch.from_numpy(x_tr).type(torch.float).to(device)\n",
        "x_te=torch.from_numpy(x_te).type(torch.float).to(device)\n",
        "y_tr=torch.from_numpy(y_tr).type(torch.LongTensor).to(device)\n",
        "y_te=torch.from_numpy(y_te).type(torch.LongTensor).to(device)"
      ]
    },
    {
      "cell_type": "markdown",
      "id": "a166f4db",
      "metadata": {
        "id": "a166f4db"
      },
      "source": [
        "## Model creation"
      ]
    },
    {
      "cell_type": "code",
      "execution_count": 21,
      "id": "c72afbab",
      "metadata": {
        "id": "c72afbab"
      },
      "outputs": [],
      "source": [
        "class model(nn.Module):\n",
        "    def __init__(self, in_feature:int, out_feature:int, hidden_layers:int):\n",
        "        super().__init__()\n",
        "        self.layer=nn.Sequential(\n",
        "            nn.Linear(in_features=in_feature, out_features=hidden_layers),\n",
        "            nn.Linear(in_features=hidden_layers, out_features=hidden_layers*10),\n",
        "            nn.ReLU(),\n",
        "            nn.Dropout(p=0.4),\n",
        "            nn.Linear(in_features=hidden_layers*10, out_features=hidden_layers*5),\n",
        "            nn.ReLU(),\n",
        "            nn.Dropout(p=0.2),\n",
        "            nn.Linear(in_features=hidden_layers*5, out_features=hidden_layers),\n",
        "            nn.ReLU(),\n",
        "            nn.Linear(in_features=hidden_layers, out_features=out_feature),\n",
        "        )\n",
        "    def forward(self, x:torch.Tensor) -> torch.Tensor:\n",
        "        return self.layer(x)\n",
        "Model=model(in_feature=10, out_feature=5, hidden_layers=64).to(device)"
      ]
    },
    {
      "cell_type": "code",
      "execution_count": 22,
      "id": "a918322f",
      "metadata": {
        "colab": {
          "base_uri": "https://localhost:8080/"
        },
        "id": "a918322f",
        "outputId": "d6449c3d-abf8-4b8e-dd97-a6ec10fbdba1"
      },
      "outputs": [
        {
          "output_type": "stream",
          "name": "stdout",
          "text": [
            "tensor([[ 0.8631,  3.2384, -0.4117, -0.5684,  0.4536],\n",
            "        [ 0.8790,  2.4272,  0.4842, -0.6306,  0.7244]], device='cuda:0',\n",
            "       grad_fn=<SliceBackward0>),\n",
            "\n",
            " <bound method Module.parameters of model(\n",
            "  (layer): Sequential(\n",
            "    (0): Linear(in_features=10, out_features=64, bias=True)\n",
            "    (1): Linear(in_features=64, out_features=640, bias=True)\n",
            "    (2): ReLU()\n",
            "    (3): Dropout(p=0.4, inplace=False)\n",
            "    (4): Linear(in_features=640, out_features=320, bias=True)\n",
            "    (5): ReLU()\n",
            "    (6): Dropout(p=0.2, inplace=False)\n",
            "    (7): Linear(in_features=320, out_features=64, bias=True)\n",
            "    (8): ReLU()\n",
            "    (9): Linear(in_features=64, out_features=5, bias=True)\n",
            "  )\n",
            ")>\n",
            "=================================================================\n",
            "Layer (type:depth-idx)                   Param #\n",
            "=================================================================\n",
            "model                                    --\n",
            "├─Sequential: 1-1                        --\n",
            "│    └─Linear: 2-1                       704\n",
            "│    └─Linear: 2-2                       41,600\n",
            "│    └─ReLU: 2-3                         --\n",
            "│    └─Dropout: 2-4                      --\n",
            "│    └─Linear: 2-5                       205,120\n",
            "│    └─ReLU: 2-6                         --\n",
            "│    └─Dropout: 2-7                      --\n",
            "│    └─Linear: 2-8                       20,544\n",
            "│    └─ReLU: 2-9                         --\n",
            "│    └─Linear: 2-10                      325\n",
            "=================================================================\n",
            "Total params: 268,293\n",
            "Trainable params: 268,293\n",
            "Non-trainable params: 0\n",
            "=================================================================\n"
          ]
        }
      ],
      "source": [
        "Model.eval()\n",
        "y_pred=Model(x_tr)\n",
        "print(f'{y_pred[:2]},\\n\\n {Model.parameters}')\n",
        "print(summary(Model))"
      ]
    },
    {
      "cell_type": "code",
      "execution_count": 23,
      "id": "6dd030de",
      "metadata": {
        "id": "6dd030de"
      },
      "outputs": [],
      "source": [
        "def train_step(model: torch.nn.Module,\n",
        "               data_loader: torch.utils.data.DataLoader,\n",
        "               loss_fn: torch.nn.Module,\n",
        "               optimizer: torch.optim.Optimizer,\n",
        "               accuracy_fn,\n",
        "               device: torch.device = device,\n",
        "               scheduler=False):\n",
        "    \n",
        "    train_loss, train_acc = 0, 0\n",
        "    for batch, (X, y) in enumerate(data_loader):\n",
        "        X, y = X.type(torch.float).to(device), y.type(torch.LongTensor).to(device) # Send data to GPU\n",
        "#         X, y = X.to(device), y.to(device)\n",
        "#         print(type(X), type(y), X.dtype, y.dtype, X.shape)\n",
        "        y_pred = model(X) # 1. Forward pass\n",
        "        loss = loss_fn(y_pred, y) # 2. Calculate loss\n",
        "        train_loss += loss\n",
        "        train_acc += accuracy_fn(y_pred.argmax(dim=1),y) # Go from logits -> pred label        \n",
        "        optimizer.zero_grad() # 3. Optimizer zero grad\n",
        "        loss.backward() # 4. Loss backwardrr\n",
        "        if scheduler !=False:\n",
        "            scheduler.step() # 5. Optimizer step\n",
        "        else:\n",
        "            optimizer.step()\n",
        "\n",
        "    # Calculate loss and accuracy per epoch and print out what's happening\n",
        "    train_loss /= len(data_loader)\n",
        "    train_acc /= len(data_loader)\n",
        "    print(f\"Train loss: {train_loss:.5f} | Train accuracy: {train_acc:.2f}%\")\n",
        "\n",
        "def test_step(data_loader: torch.utils.data.DataLoader,\n",
        "              model: torch.nn.Module,\n",
        "              loss_fn: torch.nn.Module,\n",
        "              accuracy_fn,\n",
        "              device: torch.device = device):\n",
        "    test_loss, test_acc = 0, 0\n",
        "    model.eval() # put model in eval mode\n",
        "    \n",
        "    # Turn on inference context manager\n",
        "    with torch.inference_mode(): \n",
        "        for X, y in data_loader:\n",
        "            # Send data to GPU\n",
        "            X, y = X.type(torch.float).to(device), y.type(torch.LongTensor).to(device)\n",
        "            test_pred = model(X)# 1. Forward pass\n",
        "            \n",
        "            test_loss += loss_fn(test_pred, y) # 2. Calculate loss and accuracy\n",
        "            test_acc += accuracy_fn(test_pred.argmax(dim=1),y)# Go from logits -> pred labels\n",
        "        \n",
        "        # Adjust metrics and print out\n",
        "        test_loss /= len(data_loader)\n",
        "        test_acc /= len(data_loader)\n",
        "        print(f\"Test loss: {test_loss:.5f} | Test accuracy: {test_acc:.2f}%\\n\")\n",
        "\n"
      ]
    },
    {
      "cell_type": "code",
      "execution_count": 24,
      "id": "9881b6ef",
      "metadata": {
        "colab": {
          "base_uri": "https://localhost:8080/"
        },
        "id": "9881b6ef",
        "outputId": "5a7b6449-65ea-4c2f-9203-c9e2b6a455a4"
      },
      "outputs": [
        {
          "output_type": "stream",
          "name": "stdout",
          "text": [
            "\n",
            "Epoch: 1\n",
            "---------\n",
            "Train loss: 0.72123 | Train accuracy: 0.72%\n",
            "Test loss: 0.52389 | Test accuracy: 0.81%\n",
            "\n",
            "\n",
            "Epoch: 2\n",
            "---------\n",
            "Train loss: 0.43166 | Train accuracy: 0.84%\n",
            "Test loss: 0.38018 | Test accuracy: 0.86%\n",
            "\n",
            "\n",
            "Epoch: 3\n",
            "---------\n",
            "Train loss: 0.32697 | Train accuracy: 0.88%\n",
            "Test loss: 0.31251 | Test accuracy: 0.89%\n",
            "\n",
            "\n",
            "Epoch: 4\n",
            "---------\n",
            "Train loss: 0.27013 | Train accuracy: 0.90%\n",
            "Test loss: 0.25084 | Test accuracy: 0.91%\n",
            "\n",
            "\n",
            "Epoch: 5\n",
            "---------\n",
            "Train loss: 0.23949 | Train accuracy: 0.91%\n",
            "Test loss: 0.23254 | Test accuracy: 0.92%\n",
            "\n",
            "\n",
            "Epoch: 6\n",
            "---------\n",
            "Train loss: 0.21159 | Train accuracy: 0.92%\n",
            "Test loss: 0.24665 | Test accuracy: 0.92%\n",
            "\n",
            "\n",
            "Epoch: 7\n",
            "---------\n",
            "Train loss: 0.19399 | Train accuracy: 0.93%\n",
            "Test loss: 0.23744 | Test accuracy: 0.92%\n",
            "\n",
            "\n",
            "Epoch: 8\n",
            "---------\n",
            "Train loss: 0.17725 | Train accuracy: 0.94%\n",
            "Test loss: 0.23216 | Test accuracy: 0.92%\n",
            "\n",
            "\n",
            "Epoch: 9\n",
            "---------\n",
            "Train loss: 0.16888 | Train accuracy: 0.94%\n",
            "Test loss: 0.18899 | Test accuracy: 0.94%\n",
            "\n",
            "\n",
            "Epoch: 10\n",
            "---------\n",
            "Train loss: 0.15474 | Train accuracy: 0.94%\n",
            "Test loss: 0.20532 | Test accuracy: 0.93%\n",
            "\n",
            "\n",
            "Epoch: 11\n",
            "---------\n",
            "Train loss: 0.14721 | Train accuracy: 0.95%\n",
            "Test loss: 0.18943 | Test accuracy: 0.94%\n",
            "\n",
            "\n",
            "Epoch: 12\n",
            "---------\n",
            "Train loss: 0.14499 | Train accuracy: 0.95%\n",
            "Test loss: 0.19322 | Test accuracy: 0.94%\n",
            "\n",
            "\n",
            "Epoch: 13\n",
            "---------\n",
            "Train loss: 0.13749 | Train accuracy: 0.95%\n",
            "Test loss: 0.23344 | Test accuracy: 0.93%\n",
            "\n",
            "\n",
            "Epoch: 14\n",
            "---------\n",
            "Train loss: 0.13042 | Train accuracy: 0.95%\n",
            "Test loss: 0.18034 | Test accuracy: 0.95%\n",
            "\n",
            "\n",
            "Epoch: 15\n",
            "---------\n",
            "Train loss: 0.12449 | Train accuracy: 0.96%\n",
            "Test loss: 0.18326 | Test accuracy: 0.94%\n",
            "\n"
          ]
        }
      ],
      "source": [
        "acc=MulticlassAccuracy(num_classes=5).to(device)\n",
        "\n",
        "optim=torch.optim.Adam(params=Model.parameters(), lr=0.001)\n",
        "# Scheduler = StepLR(optim, step_size=5, gamma=0.1)\n",
        "\n",
        "loss_fn=nn.CrossEntropyLoss()\n",
        "for epoch in (range(15)):\n",
        "    print(f\"\\nEpoch: {epoch+1}\\n---------\")\n",
        "    try:\n",
        "        train_step(data_loader=train_loader, model=Model, loss_fn=loss_fn,optimizer=optim,accuracy_fn=MulticlassAccuracy(num_classes=5).to(device), scheduler=False)\n",
        "    #     if epoch%4==0:\n",
        "        test_step(data_loader=test_loader,model=Model,loss_fn=loss_fn,accuracy_fn=MulticlassAccuracy(num_classes=5).to(device))\n",
        "    except Exception as e:\n",
        "        print(e)\n"
      ]
    },
    {
      "cell_type": "markdown",
      "id": "a97d79ca",
      "metadata": {
        "id": "a97d79ca"
      },
      "source": [
        "## Evaluation"
      ]
    },
    {
      "cell_type": "code",
      "execution_count": 25,
      "id": "6be77ed4",
      "metadata": {
        "colab": {
          "base_uri": "https://localhost:8080/",
          "height": 286
        },
        "id": "6be77ed4",
        "outputId": "54c50575-88e2-488f-9590-0eb81bf72350"
      },
      "outputs": [
        {
          "output_type": "execute_result",
          "data": {
            "text/plain": [
              "<matplotlib.axes._subplots.AxesSubplot at 0x7f8dd0b6e1f0>"
            ]
          },
          "metadata": {},
          "execution_count": 25
        },
        {
          "output_type": "display_data",
          "data": {
            "text/plain": [
              "<Figure size 432x288 with 2 Axes>"
            ],
            "image/png": "[encoded data removed]"
          },
          "metadata": {
            "needs_background": "light"
          }
        }
      ],
      "source": [
        "cf=ConfusionMatrix(task=\"multiclass\", num_classes=5).to(device)\n",
        "\n",
        "Model.eval()\n",
        "y_pred=Model(x_te)\n",
        "k=cf(y_pred, y_te).to('cpu')\n",
        "sns.heatmap(k, annot=True)"
      ]
    }
  ],
  "metadata": {
    "kernelspec": {
      "display_name": "Python 3 (ipykernel)",
      "language": "python",
      "name": "python3"
    },
    "language_info": {
      "codemirror_mode": {
        "name": "ipython",
        "version": 3
      },
      "file_extension": ".py",
      "mimetype": "text/x-python",
      "name": "python",
      "nbconvert_exporter": "python",
      "pygments_lexer": "ipython3",
      "version": "3.10.8"
    },
    "colab": {
      "provenance": [],
      "include_colab_link": true
    },
    "accelerator": "GPU",
    "gpuClass": "standard"
  },
  "nbformat": 4,
  "nbformat_minor": 5
}